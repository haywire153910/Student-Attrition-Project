{
 "cells": [
  {
   "cell_type": "code",
   "execution_count": 9,
   "metadata": {},
   "outputs": [],
   "source": [
    "import numpy as np\n",
    "import pandas as pd\n",
    "import os\n"
   ]
  },
  {
   "cell_type": "code",
   "execution_count": 10,
   "metadata": {},
   "outputs": [],
   "source": [
    "os.chdir('C:/Users/91990/Documents/Data_Science_Final/Restart/Data sets for Dsc')"
   ]
  },
  {
   "cell_type": "code",
   "execution_count": 11,
   "metadata": {},
   "outputs": [],
   "source": [
    "data = pd.read_excel('Student Applications & Performance_1.xlsx', na_values =[\"\", \" \", \"NA\", \"N/A\"])"
   ]
  },
  {
   "cell_type": "markdown",
   "metadata": {},
   "source": [
    "EDA"
   ]
  },
  {
   "cell_type": "code",
   "execution_count": 12,
   "metadata": {},
   "outputs": [],
   "source": [
    "data.isnull().sum()\n",
    "data=data.dropna(how ='all')"
   ]
  },
  {
   "cell_type": "code",
   "execution_count": 13,
   "metadata": {},
   "outputs": [],
   "source": [
    "import seaborn as sns\n",
    "import matplotlib.pyplot as plt"
   ]
  },
  {
   "cell_type": "code",
   "execution_count": 14,
   "metadata": {},
   "outputs": [],
   "source": [
    "data= data.drop(['STUDENT IDENTIFIER','STDNT_MINOR','STDNT_TEST_ENTRANCE1','STDNT_TEST_ENTRANCE2','CORE_COURSE_NAME_5_F',\n",
    "       'CORE_COURSE_GRADE_5_F', 'CORE_COURSE_NAME_6_F',\n",
    "       'CORE_COURSE_GRADE_6_F','CORE_COURSE_NAME_5_S',\n",
    "       'CORE_COURSE_GRADE_5_S','CORE_COURSE_NAME_6_S',\n",
    "       'CORE_COURSE_GRADE_6_S','HIGH_SCHL_NAME', 'FATHER_HI_EDU_CD','MOTHER_HI_EDU_CD',\n",
    "       'CORE_COURSE_NAME_3_F',\n",
    "       'CORE_COURSE_GRADE_3_F','CORE_COURSE_NAME_3_S',\n",
    "       'CORE_COURSE_GRADE_3_S','CORE_COURSE_NAME_4_F',\n",
    "       'CORE_COURSE_GRADE_4_F','CORE_COURSE_NAME_4_S',\n",
    "       'CORE_COURSE_GRADE_4_S'], axis =1)"
   ]
  },
  {
   "cell_type": "code",
   "execution_count": 15,
   "metadata": {},
   "outputs": [],
   "source": [
    "data= data.drop(['CORE_COURSE_NAME_1_F',\n",
    "'CORE_COURSE_GRADE_1_F',\n",
    "'CORE_COURSE_NAME_2_F',\n",
    "'CORE_COURSE_GRADE_2_F','CORE_COURSE_NAME_1_S',\n",
    "'CORE_COURSE_GRADE_1_S',\n",
    "'CORE_COURSE_NAME_2_S',\n",
    "'CORE_COURSE_GRADE_2_S'],axis=1)"
   ]
  },
  {
   "cell_type": "code",
   "execution_count": 16,
   "metadata": {},
   "outputs": [],
   "source": [
    "data['DISTANCE_FROM_HOME'] = data['DISTANCE_FROM_HOME'].fillna(data['DISTANCE_FROM_HOME'].mean())"
   ]
  },
  {
   "cell_type": "code",
   "execution_count": 17,
   "metadata": {},
   "outputs": [],
   "source": [
    "data['HIGH_SCHL_GPA'] = data['HIGH_SCHL_GPA'].fillna(data['HIGH_SCHL_GPA'].mean())"
   ]
  },
  {
   "cell_type": "code",
   "execution_count": 18,
   "metadata": {},
   "outputs": [],
   "source": [
    "data['SECOND_TERM_ATTEMPT_HRS'] = data['SECOND_TERM_ATTEMPT_HRS'].fillna(data['SECOND_TERM_ATTEMPT_HRS'].mean())"
   ]
  },
  {
   "cell_type": "code",
   "execution_count": 19,
   "metadata": {},
   "outputs": [],
   "source": [
    "data['SECOND_TERM_EARNED_HRS'] = data['SECOND_TERM_EARNED_HRS'].fillna(data['SECOND_TERM_EARNED_HRS'].mean())"
   ]
  },
  {
   "cell_type": "code",
   "execution_count": 20,
   "metadata": {},
   "outputs": [],
   "source": [
    "data['STDNT_TEST_ENTRANCE_COMB'] = data['STDNT_TEST_ENTRANCE_COMB'].fillna(data['STDNT_TEST_ENTRANCE_COMB'].mean())"
   ]
  },
  {
   "cell_type": "code",
   "execution_count": 21,
   "metadata": {},
   "outputs": [
    {
     "data": {
      "text/html": [
       "<div>\n",
       "<style scoped>\n",
       "    .dataframe tbody tr th:only-of-type {\n",
       "        vertical-align: middle;\n",
       "    }\n",
       "\n",
       "    .dataframe tbody tr th {\n",
       "        vertical-align: top;\n",
       "    }\n",
       "\n",
       "    .dataframe thead th {\n",
       "        text-align: right;\n",
       "    }\n",
       "</style>\n",
       "<table border=\"1\" class=\"dataframe\">\n",
       "  <thead>\n",
       "    <tr style=\"text-align: right;\">\n",
       "      <th></th>\n",
       "      <th>STDNT_AGE</th>\n",
       "      <th>STDNT_GENDER</th>\n",
       "      <th>STDNT_BACKGROUND</th>\n",
       "      <th>IN_STATE_FLAG</th>\n",
       "      <th>INTERNATIONAL_STS</th>\n",
       "      <th>STDNT_MAJOR</th>\n",
       "      <th>STDNT_TEST_ENTRANCE_COMB</th>\n",
       "      <th>FIRST_TERM</th>\n",
       "      <th>SECOND_TERM</th>\n",
       "      <th>HOUSING_STS</th>\n",
       "      <th>...</th>\n",
       "      <th>DEGREE_GROUP_CD</th>\n",
       "      <th>DEGREE_GROUP_DESC</th>\n",
       "      <th>FIRST_TERM_ATTEMPT_HRS</th>\n",
       "      <th>FIRST_TERM_EARNED_HRS</th>\n",
       "      <th>SECOND_TERM_ATTEMPT_HRS</th>\n",
       "      <th>SECOND_TERM_EARNED_HRS</th>\n",
       "      <th>GROSS_FIN_NEED</th>\n",
       "      <th>COST_OF_ATTEND</th>\n",
       "      <th>EST_FAM_CONTRIBUTION</th>\n",
       "      <th>UNMET_NEED</th>\n",
       "    </tr>\n",
       "  </thead>\n",
       "  <tbody>\n",
       "    <tr>\n",
       "      <td>0</td>\n",
       "      <td>18</td>\n",
       "      <td>F</td>\n",
       "      <td>BGD 1</td>\n",
       "      <td>Y</td>\n",
       "      <td>N</td>\n",
       "      <td>Undeclared</td>\n",
       "      <td>1150.0</td>\n",
       "      <td>200708</td>\n",
       "      <td>200802</td>\n",
       "      <td>On Campus</td>\n",
       "      <td>...</td>\n",
       "      <td>B</td>\n",
       "      <td>Bachelors</td>\n",
       "      <td>16</td>\n",
       "      <td>16</td>\n",
       "      <td>14.000000</td>\n",
       "      <td>14.000000</td>\n",
       "      <td>0</td>\n",
       "      <td>0</td>\n",
       "      <td>0</td>\n",
       "      <td>0.0</td>\n",
       "    </tr>\n",
       "    <tr>\n",
       "      <td>1</td>\n",
       "      <td>19</td>\n",
       "      <td>F</td>\n",
       "      <td>BGD 1</td>\n",
       "      <td>N</td>\n",
       "      <td>N</td>\n",
       "      <td>Undeclared</td>\n",
       "      <td>1190.0</td>\n",
       "      <td>200808</td>\n",
       "      <td>200902</td>\n",
       "      <td>Off Campus</td>\n",
       "      <td>...</td>\n",
       "      <td>B</td>\n",
       "      <td>Bachelors</td>\n",
       "      <td>18</td>\n",
       "      <td>18</td>\n",
       "      <td>18.000000</td>\n",
       "      <td>18.000000</td>\n",
       "      <td>570000</td>\n",
       "      <td>1355760</td>\n",
       "      <td>785760</td>\n",
       "      <td>459300.0</td>\n",
       "    </tr>\n",
       "    <tr>\n",
       "      <td>2</td>\n",
       "      <td>18</td>\n",
       "      <td>M</td>\n",
       "      <td>BGD 1</td>\n",
       "      <td>Y</td>\n",
       "      <td>N</td>\n",
       "      <td>Mathematics</td>\n",
       "      <td>1030.0</td>\n",
       "      <td>201008</td>\n",
       "      <td>201102</td>\n",
       "      <td>On Campus</td>\n",
       "      <td>...</td>\n",
       "      <td>B</td>\n",
       "      <td>Bachelors</td>\n",
       "      <td>15</td>\n",
       "      <td>15</td>\n",
       "      <td>14.000000</td>\n",
       "      <td>14.000000</td>\n",
       "      <td>0</td>\n",
       "      <td>0</td>\n",
       "      <td>0</td>\n",
       "      <td>0.0</td>\n",
       "    </tr>\n",
       "    <tr>\n",
       "      <td>3</td>\n",
       "      <td>18</td>\n",
       "      <td>M</td>\n",
       "      <td>BGD 1</td>\n",
       "      <td>Y</td>\n",
       "      <td>N</td>\n",
       "      <td>Undeclared</td>\n",
       "      <td>1220.0</td>\n",
       "      <td>200708</td>\n",
       "      <td>200802</td>\n",
       "      <td>On Campus</td>\n",
       "      <td>...</td>\n",
       "      <td>B</td>\n",
       "      <td>Bachelors</td>\n",
       "      <td>13</td>\n",
       "      <td>13</td>\n",
       "      <td>14.000000</td>\n",
       "      <td>14.000000</td>\n",
       "      <td>0</td>\n",
       "      <td>0</td>\n",
       "      <td>0</td>\n",
       "      <td>0.0</td>\n",
       "    </tr>\n",
       "    <tr>\n",
       "      <td>4</td>\n",
       "      <td>18</td>\n",
       "      <td>F</td>\n",
       "      <td>BGD 1</td>\n",
       "      <td>Y</td>\n",
       "      <td>N</td>\n",
       "      <td>Art</td>\n",
       "      <td>1190.0</td>\n",
       "      <td>200808</td>\n",
       "      <td>200902</td>\n",
       "      <td>Off Campus</td>\n",
       "      <td>...</td>\n",
       "      <td>B</td>\n",
       "      <td>Bachelors</td>\n",
       "      <td>12</td>\n",
       "      <td>12</td>\n",
       "      <td>12.000000</td>\n",
       "      <td>12.000000</td>\n",
       "      <td>835920</td>\n",
       "      <td>1355760</td>\n",
       "      <td>519840</td>\n",
       "      <td>278340.0</td>\n",
       "    </tr>\n",
       "    <tr>\n",
       "      <td>...</td>\n",
       "      <td>...</td>\n",
       "      <td>...</td>\n",
       "      <td>...</td>\n",
       "      <td>...</td>\n",
       "      <td>...</td>\n",
       "      <td>...</td>\n",
       "      <td>...</td>\n",
       "      <td>...</td>\n",
       "      <td>...</td>\n",
       "      <td>...</td>\n",
       "      <td>...</td>\n",
       "      <td>...</td>\n",
       "      <td>...</td>\n",
       "      <td>...</td>\n",
       "      <td>...</td>\n",
       "      <td>...</td>\n",
       "      <td>...</td>\n",
       "      <td>...</td>\n",
       "      <td>...</td>\n",
       "      <td>...</td>\n",
       "      <td>...</td>\n",
       "    </tr>\n",
       "    <tr>\n",
       "      <td>3395</td>\n",
       "      <td>18</td>\n",
       "      <td>F</td>\n",
       "      <td>BGD 4</td>\n",
       "      <td>N</td>\n",
       "      <td>N</td>\n",
       "      <td>Music Performance</td>\n",
       "      <td>790.0</td>\n",
       "      <td>200808</td>\n",
       "      <td>200902</td>\n",
       "      <td>Off Campus</td>\n",
       "      <td>...</td>\n",
       "      <td>B</td>\n",
       "      <td>Bachelors</td>\n",
       "      <td>18</td>\n",
       "      <td>18</td>\n",
       "      <td>16.000000</td>\n",
       "      <td>13.000000</td>\n",
       "      <td>0</td>\n",
       "      <td>0</td>\n",
       "      <td>0</td>\n",
       "      <td>0.0</td>\n",
       "    </tr>\n",
       "    <tr>\n",
       "      <td>3396</td>\n",
       "      <td>18</td>\n",
       "      <td>F</td>\n",
       "      <td>BGD 1</td>\n",
       "      <td>Y</td>\n",
       "      <td>N</td>\n",
       "      <td>Biology</td>\n",
       "      <td>950.0</td>\n",
       "      <td>200708</td>\n",
       "      <td>200802</td>\n",
       "      <td>Off Campus</td>\n",
       "      <td>...</td>\n",
       "      <td>B</td>\n",
       "      <td>Bachelors</td>\n",
       "      <td>13</td>\n",
       "      <td>9</td>\n",
       "      <td>14.285848</td>\n",
       "      <td>12.511125</td>\n",
       "      <td>0</td>\n",
       "      <td>0</td>\n",
       "      <td>0</td>\n",
       "      <td>0.0</td>\n",
       "    </tr>\n",
       "    <tr>\n",
       "      <td>3397</td>\n",
       "      <td>18</td>\n",
       "      <td>F</td>\n",
       "      <td>BGD 4</td>\n",
       "      <td>Y</td>\n",
       "      <td>N</td>\n",
       "      <td>Biology</td>\n",
       "      <td>1030.0</td>\n",
       "      <td>200808</td>\n",
       "      <td>200902</td>\n",
       "      <td>On Campus</td>\n",
       "      <td>...</td>\n",
       "      <td>B</td>\n",
       "      <td>Bachelors</td>\n",
       "      <td>14</td>\n",
       "      <td>6</td>\n",
       "      <td>14.285848</td>\n",
       "      <td>12.511125</td>\n",
       "      <td>0</td>\n",
       "      <td>945840</td>\n",
       "      <td>1288980</td>\n",
       "      <td>0.0</td>\n",
       "    </tr>\n",
       "    <tr>\n",
       "      <td>3398</td>\n",
       "      <td>18</td>\n",
       "      <td>F</td>\n",
       "      <td>BGD 3</td>\n",
       "      <td>Y</td>\n",
       "      <td>N</td>\n",
       "      <td>Joint Enrollment - Accel</td>\n",
       "      <td>990.0</td>\n",
       "      <td>201008</td>\n",
       "      <td>201102</td>\n",
       "      <td>Off Campus</td>\n",
       "      <td>...</td>\n",
       "      <td>B</td>\n",
       "      <td>Bachelors</td>\n",
       "      <td>12</td>\n",
       "      <td>9</td>\n",
       "      <td>14.285848</td>\n",
       "      <td>12.511125</td>\n",
       "      <td>0</td>\n",
       "      <td>269100</td>\n",
       "      <td>0</td>\n",
       "      <td>-231720.0</td>\n",
       "    </tr>\n",
       "    <tr>\n",
       "      <td>3399</td>\n",
       "      <td>18</td>\n",
       "      <td>M</td>\n",
       "      <td>BGD 2</td>\n",
       "      <td>Y</td>\n",
       "      <td>N</td>\n",
       "      <td>Art</td>\n",
       "      <td>870.0</td>\n",
       "      <td>201008</td>\n",
       "      <td>201102</td>\n",
       "      <td>Off Campus</td>\n",
       "      <td>...</td>\n",
       "      <td>B</td>\n",
       "      <td>Bachelors</td>\n",
       "      <td>12</td>\n",
       "      <td>9</td>\n",
       "      <td>13.000000</td>\n",
       "      <td>6.000000</td>\n",
       "      <td>0</td>\n",
       "      <td>0</td>\n",
       "      <td>0</td>\n",
       "      <td>0.0</td>\n",
       "    </tr>\n",
       "  </tbody>\n",
       "</table>\n",
       "<p>3400 rows × 25 columns</p>\n",
       "</div>"
      ],
      "text/plain": [
       "      STDNT_AGE STDNT_GENDER STDNT_BACKGROUND IN_STATE_FLAG INTERNATIONAL_STS  \\\n",
       "0            18            F            BGD 1             Y                 N   \n",
       "1            19            F            BGD 1             N                 N   \n",
       "2            18            M            BGD 1             Y                 N   \n",
       "3            18            M            BGD 1             Y                 N   \n",
       "4            18            F            BGD 1             Y                 N   \n",
       "...         ...          ...              ...           ...               ...   \n",
       "3395         18            F            BGD 4             N                 N   \n",
       "3396         18            F            BGD 1             Y                 N   \n",
       "3397         18            F            BGD 4             Y                 N   \n",
       "3398         18            F            BGD 3             Y                 N   \n",
       "3399         18            M            BGD 2             Y                 N   \n",
       "\n",
       "                   STDNT_MAJOR  STDNT_TEST_ENTRANCE_COMB  FIRST_TERM  \\\n",
       "0                   Undeclared                    1150.0      200708   \n",
       "1                   Undeclared                    1190.0      200808   \n",
       "2                  Mathematics                    1030.0      201008   \n",
       "3                   Undeclared                    1220.0      200708   \n",
       "4                          Art                    1190.0      200808   \n",
       "...                        ...                       ...         ...   \n",
       "3395         Music Performance                     790.0      200808   \n",
       "3396                   Biology                     950.0      200708   \n",
       "3397                   Biology                    1030.0      200808   \n",
       "3398  Joint Enrollment - Accel                     990.0      201008   \n",
       "3399                       Art                     870.0      201008   \n",
       "\n",
       "      SECOND_TERM HOUSING_STS  ...  DEGREE_GROUP_CD  DEGREE_GROUP_DESC  \\\n",
       "0          200802   On Campus  ...                B          Bachelors   \n",
       "1          200902  Off Campus  ...                B          Bachelors   \n",
       "2          201102   On Campus  ...                B          Bachelors   \n",
       "3          200802   On Campus  ...                B          Bachelors   \n",
       "4          200902  Off Campus  ...                B          Bachelors   \n",
       "...           ...         ...  ...              ...                ...   \n",
       "3395       200902  Off Campus  ...                B          Bachelors   \n",
       "3396       200802  Off Campus  ...                B          Bachelors   \n",
       "3397       200902   On Campus  ...                B          Bachelors   \n",
       "3398       201102  Off Campus  ...                B          Bachelors   \n",
       "3399       201102  Off Campus  ...                B          Bachelors   \n",
       "\n",
       "      FIRST_TERM_ATTEMPT_HRS FIRST_TERM_EARNED_HRS SECOND_TERM_ATTEMPT_HRS  \\\n",
       "0                         16                    16               14.000000   \n",
       "1                         18                    18               18.000000   \n",
       "2                         15                    15               14.000000   \n",
       "3                         13                    13               14.000000   \n",
       "4                         12                    12               12.000000   \n",
       "...                      ...                   ...                     ...   \n",
       "3395                      18                    18               16.000000   \n",
       "3396                      13                     9               14.285848   \n",
       "3397                      14                     6               14.285848   \n",
       "3398                      12                     9               14.285848   \n",
       "3399                      12                     9               13.000000   \n",
       "\n",
       "     SECOND_TERM_EARNED_HRS GROSS_FIN_NEED  COST_OF_ATTEND  \\\n",
       "0                 14.000000              0               0   \n",
       "1                 18.000000         570000         1355760   \n",
       "2                 14.000000              0               0   \n",
       "3                 14.000000              0               0   \n",
       "4                 12.000000         835920         1355760   \n",
       "...                     ...            ...             ...   \n",
       "3395              13.000000              0               0   \n",
       "3396              12.511125              0               0   \n",
       "3397              12.511125              0          945840   \n",
       "3398              12.511125              0          269100   \n",
       "3399               6.000000              0               0   \n",
       "\n",
       "      EST_FAM_CONTRIBUTION  UNMET_NEED  \n",
       "0                        0         0.0  \n",
       "1                   785760    459300.0  \n",
       "2                        0         0.0  \n",
       "3                        0         0.0  \n",
       "4                   519840    278340.0  \n",
       "...                    ...         ...  \n",
       "3395                     0         0.0  \n",
       "3396                     0         0.0  \n",
       "3397               1288980         0.0  \n",
       "3398                     0   -231720.0  \n",
       "3399                     0         0.0  \n",
       "\n",
       "[3400 rows x 25 columns]"
      ]
     },
     "execution_count": 21,
     "metadata": {},
     "output_type": "execute_result"
    }
   ],
   "source": [
    "data"
   ]
  },
  {
   "cell_type": "code",
   "execution_count": 22,
   "metadata": {},
   "outputs": [
    {
     "data": {
      "text/plain": [
       "STDNT_AGE                   0\n",
       "STDNT_GENDER                0\n",
       "STDNT_BACKGROUND            0\n",
       "IN_STATE_FLAG               0\n",
       "INTERNATIONAL_STS           0\n",
       "STDNT_MAJOR                 0\n",
       "STDNT_TEST_ENTRANCE_COMB    0\n",
       "FIRST_TERM                  0\n",
       "SECOND_TERM                 0\n",
       "HOUSING_STS                 0\n",
       "RETURNED_2ND_YR             0\n",
       "DISTANCE_FROM_HOME          0\n",
       "HIGH_SCHL_GPA               0\n",
       "FATHER_HI_EDU_DESC          0\n",
       "MOTHER_HI_EDU_DESC          0\n",
       "DEGREE_GROUP_CD             0\n",
       "DEGREE_GROUP_DESC           0\n",
       "FIRST_TERM_ATTEMPT_HRS      0\n",
       "FIRST_TERM_EARNED_HRS       0\n",
       "SECOND_TERM_ATTEMPT_HRS     0\n",
       "SECOND_TERM_EARNED_HRS      0\n",
       "GROSS_FIN_NEED              0\n",
       "COST_OF_ATTEND              0\n",
       "EST_FAM_CONTRIBUTION        0\n",
       "UNMET_NEED                  0\n",
       "dtype: int64"
      ]
     },
     "execution_count": 22,
     "metadata": {},
     "output_type": "execute_result"
    }
   ],
   "source": [
    "data.isnull().sum()"
   ]
  },
  {
   "cell_type": "code",
   "execution_count": 23,
   "metadata": {},
   "outputs": [
    {
     "data": {
      "image/png": "[encoded data removed]",
      "text/plain": [
       "<Figure size 432x288 with 1 Axes>"
      ]
     },
     "metadata": {
      "needs_background": "light"
     },
     "output_type": "display_data"
    }
   ],
   "source": [
    "ax =sns.boxplot(data=data, orient='h', palette = 'Set3')"
   ]
  },
  {
   "cell_type": "code",
   "execution_count": 24,
   "metadata": {},
   "outputs": [],
   "source": [
    "data['FIRST_TERM']= data['FIRST_TERM'].replace({200508:2005,200608:2006,200708:2007,200808:2008,200908:2009,201008:2010})"
   ]
  },
  {
   "cell_type": "code",
   "execution_count": 25,
   "metadata": {},
   "outputs": [],
   "source": [
    "data['SECOND_TERM']=data['SECOND_TERM'].replace({200602:2006,200702:2007,200802:2008,200902:2009,201002:2010,201102:2011})"
   ]
  },
  {
   "cell_type": "code",
   "execution_count": 26,
   "metadata": {},
   "outputs": [
    {
     "data": {
      "text/plain": [
       "2010    676\n",
       "2011    632\n",
       "2009    581\n",
       "2008    521\n",
       "2007    497\n",
       "2006    493\n",
       "Name: SECOND_TERM, dtype: int64"
      ]
     },
     "execution_count": 26,
     "metadata": {},
     "output_type": "execute_result"
    }
   ],
   "source": [
    "data['SECOND_TERM'].value_counts()"
   ]
  },
  {
   "cell_type": "code",
   "execution_count": 27,
   "metadata": {},
   "outputs": [
    {
     "data": {
      "text/plain": [
       "2009    676\n",
       "2010    632\n",
       "2008    581\n",
       "2007    521\n",
       "2006    497\n",
       "2005    493\n",
       "Name: FIRST_TERM, dtype: int64"
      ]
     },
     "execution_count": 27,
     "metadata": {},
     "output_type": "execute_result"
    }
   ],
   "source": [
    "data['FIRST_TERM'].value_counts()"
   ]
  },
  {
   "cell_type": "code",
   "execution_count": 28,
   "metadata": {},
   "outputs": [],
   "source": [
    "data= pd.get_dummies(data,columns=['HOUSING_STS'])"
   ]
  },
  {
   "cell_type": "code",
   "execution_count": 29,
   "metadata": {},
   "outputs": [
    {
     "data": {
      "text/html": [
       "<div>\n",
       "<style scoped>\n",
       "    .dataframe tbody tr th:only-of-type {\n",
       "        vertical-align: middle;\n",
       "    }\n",
       "\n",
       "    .dataframe tbody tr th {\n",
       "        vertical-align: top;\n",
       "    }\n",
       "\n",
       "    .dataframe thead th {\n",
       "        text-align: right;\n",
       "    }\n",
       "</style>\n",
       "<table border=\"1\" class=\"dataframe\">\n",
       "  <thead>\n",
       "    <tr style=\"text-align: right;\">\n",
       "      <th>Left</th>\n",
       "      <th>0</th>\n",
       "      <th>1</th>\n",
       "      <th>All</th>\n",
       "    </tr>\n",
       "    <tr>\n",
       "      <th>AGE</th>\n",
       "      <th></th>\n",
       "      <th></th>\n",
       "      <th></th>\n",
       "    </tr>\n",
       "  </thead>\n",
       "  <tbody>\n",
       "    <tr>\n",
       "      <td>16</td>\n",
       "      <td>3</td>\n",
       "      <td>5</td>\n",
       "      <td>8</td>\n",
       "    </tr>\n",
       "    <tr>\n",
       "      <td>17</td>\n",
       "      <td>68</td>\n",
       "      <td>241</td>\n",
       "      <td>309</td>\n",
       "    </tr>\n",
       "    <tr>\n",
       "      <td>18</td>\n",
       "      <td>589</td>\n",
       "      <td>2271</td>\n",
       "      <td>2860</td>\n",
       "    </tr>\n",
       "    <tr>\n",
       "      <td>19</td>\n",
       "      <td>51</td>\n",
       "      <td>139</td>\n",
       "      <td>190</td>\n",
       "    </tr>\n",
       "    <tr>\n",
       "      <td>20</td>\n",
       "      <td>6</td>\n",
       "      <td>8</td>\n",
       "      <td>14</td>\n",
       "    </tr>\n",
       "    <tr>\n",
       "      <td>21</td>\n",
       "      <td>4</td>\n",
       "      <td>3</td>\n",
       "      <td>7</td>\n",
       "    </tr>\n",
       "    <tr>\n",
       "      <td>22</td>\n",
       "      <td>1</td>\n",
       "      <td>3</td>\n",
       "      <td>4</td>\n",
       "    </tr>\n",
       "    <tr>\n",
       "      <td>23</td>\n",
       "      <td>0</td>\n",
       "      <td>3</td>\n",
       "      <td>3</td>\n",
       "    </tr>\n",
       "    <tr>\n",
       "      <td>24</td>\n",
       "      <td>1</td>\n",
       "      <td>0</td>\n",
       "      <td>1</td>\n",
       "    </tr>\n",
       "    <tr>\n",
       "      <td>25</td>\n",
       "      <td>0</td>\n",
       "      <td>3</td>\n",
       "      <td>3</td>\n",
       "    </tr>\n",
       "    <tr>\n",
       "      <td>26</td>\n",
       "      <td>0</td>\n",
       "      <td>1</td>\n",
       "      <td>1</td>\n",
       "    </tr>\n",
       "    <tr>\n",
       "      <td>All</td>\n",
       "      <td>723</td>\n",
       "      <td>2677</td>\n",
       "      <td>3400</td>\n",
       "    </tr>\n",
       "  </tbody>\n",
       "</table>\n",
       "</div>"
      ],
      "text/plain": [
       "Left    0     1   All\n",
       "AGE                  \n",
       "16      3     5     8\n",
       "17     68   241   309\n",
       "18    589  2271  2860\n",
       "19     51   139   190\n",
       "20      6     8    14\n",
       "21      4     3     7\n",
       "22      1     3     4\n",
       "23      0     3     3\n",
       "24      1     0     1\n",
       "25      0     3     3\n",
       "26      0     1     1\n",
       "All   723  2677  3400"
      ]
     },
     "execution_count": 29,
     "metadata": {},
     "output_type": "execute_result"
    }
   ],
   "source": [
    "pd.crosstab(data.STDNT_AGE,data.RETURNED_2ND_YR, margins=True, rownames=[\"AGE\"], colnames=[\"Left\"])"
   ]
  },
  {
   "cell_type": "code",
   "execution_count": 30,
   "metadata": {},
   "outputs": [
    {
     "data": {
      "text/html": [
       "<div>\n",
       "<style scoped>\n",
       "    .dataframe tbody tr th:only-of-type {\n",
       "        vertical-align: middle;\n",
       "    }\n",
       "\n",
       "    .dataframe tbody tr th {\n",
       "        vertical-align: top;\n",
       "    }\n",
       "\n",
       "    .dataframe thead th {\n",
       "        text-align: right;\n",
       "    }\n",
       "</style>\n",
       "<table border=\"1\" class=\"dataframe\">\n",
       "  <thead>\n",
       "    <tr style=\"text-align: right;\">\n",
       "      <th>Left</th>\n",
       "      <th>0</th>\n",
       "      <th>1</th>\n",
       "      <th>All</th>\n",
       "    </tr>\n",
       "    <tr>\n",
       "      <th>Major</th>\n",
       "      <th></th>\n",
       "      <th></th>\n",
       "      <th></th>\n",
       "    </tr>\n",
       "  </thead>\n",
       "  <tbody>\n",
       "    <tr>\n",
       "      <td>Accounting</td>\n",
       "      <td>0.003529</td>\n",
       "      <td>0.012353</td>\n",
       "      <td>0.015882</td>\n",
       "    </tr>\n",
       "    <tr>\n",
       "      <td>Applied Computer Science</td>\n",
       "      <td>0.001471</td>\n",
       "      <td>0.007941</td>\n",
       "      <td>0.009412</td>\n",
       "    </tr>\n",
       "    <tr>\n",
       "      <td>Art</td>\n",
       "      <td>0.005294</td>\n",
       "      <td>0.016765</td>\n",
       "      <td>0.022059</td>\n",
       "    </tr>\n",
       "    <tr>\n",
       "      <td>Art Education</td>\n",
       "      <td>0.000588</td>\n",
       "      <td>0.002059</td>\n",
       "      <td>0.002647</td>\n",
       "    </tr>\n",
       "    <tr>\n",
       "      <td>Biology</td>\n",
       "      <td>0.024118</td>\n",
       "      <td>0.082353</td>\n",
       "      <td>0.106471</td>\n",
       "    </tr>\n",
       "    <tr>\n",
       "      <td>Biology and Secondary Ed</td>\n",
       "      <td>0.000882</td>\n",
       "      <td>0.000588</td>\n",
       "      <td>0.001471</td>\n",
       "    </tr>\n",
       "    <tr>\n",
       "      <td>Chemistry</td>\n",
       "      <td>0.002941</td>\n",
       "      <td>0.015882</td>\n",
       "      <td>0.018824</td>\n",
       "    </tr>\n",
       "    <tr>\n",
       "      <td>Chemistry and Secondary Ed</td>\n",
       "      <td>0.000000</td>\n",
       "      <td>0.000588</td>\n",
       "      <td>0.000588</td>\n",
       "    </tr>\n",
       "    <tr>\n",
       "      <td>Communication</td>\n",
       "      <td>0.004118</td>\n",
       "      <td>0.016471</td>\n",
       "      <td>0.020588</td>\n",
       "    </tr>\n",
       "    <tr>\n",
       "      <td>Computer Science - Games</td>\n",
       "      <td>0.004118</td>\n",
       "      <td>0.007647</td>\n",
       "      <td>0.011765</td>\n",
       "    </tr>\n",
       "    <tr>\n",
       "      <td>Computer Science - Systems</td>\n",
       "      <td>0.002647</td>\n",
       "      <td>0.014412</td>\n",
       "      <td>0.017059</td>\n",
       "    </tr>\n",
       "    <tr>\n",
       "      <td>Criminal Justice</td>\n",
       "      <td>0.008529</td>\n",
       "      <td>0.020294</td>\n",
       "      <td>0.028824</td>\n",
       "    </tr>\n",
       "    <tr>\n",
       "      <td>Early Admission - Accel</td>\n",
       "      <td>0.000000</td>\n",
       "      <td>0.000882</td>\n",
       "      <td>0.000882</td>\n",
       "    </tr>\n",
       "    <tr>\n",
       "      <td>Early Childhood Education</td>\n",
       "      <td>0.010882</td>\n",
       "      <td>0.045000</td>\n",
       "      <td>0.055882</td>\n",
       "    </tr>\n",
       "    <tr>\n",
       "      <td>Earth and Space Science</td>\n",
       "      <td>0.000294</td>\n",
       "      <td>0.000294</td>\n",
       "      <td>0.000588</td>\n",
       "    </tr>\n",
       "    <tr>\n",
       "      <td>Engineering Studies</td>\n",
       "      <td>0.004412</td>\n",
       "      <td>0.013235</td>\n",
       "      <td>0.017647</td>\n",
       "    </tr>\n",
       "    <tr>\n",
       "      <td>English Language/Literature</td>\n",
       "      <td>0.002647</td>\n",
       "      <td>0.015000</td>\n",
       "      <td>0.017647</td>\n",
       "    </tr>\n",
       "    <tr>\n",
       "      <td>English and Secondary Ed</td>\n",
       "      <td>0.001176</td>\n",
       "      <td>0.007059</td>\n",
       "      <td>0.008235</td>\n",
       "    </tr>\n",
       "    <tr>\n",
       "      <td>Exercise Science</td>\n",
       "      <td>0.005588</td>\n",
       "      <td>0.018235</td>\n",
       "      <td>0.023824</td>\n",
       "    </tr>\n",
       "    <tr>\n",
       "      <td>Finance</td>\n",
       "      <td>0.002353</td>\n",
       "      <td>0.004706</td>\n",
       "      <td>0.007059</td>\n",
       "    </tr>\n",
       "    <tr>\n",
       "      <td>French</td>\n",
       "      <td>0.000294</td>\n",
       "      <td>0.000882</td>\n",
       "      <td>0.001176</td>\n",
       "    </tr>\n",
       "    <tr>\n",
       "      <td>French with Teacher Cert</td>\n",
       "      <td>0.000294</td>\n",
       "      <td>0.000882</td>\n",
       "      <td>0.001176</td>\n",
       "    </tr>\n",
       "    <tr>\n",
       "      <td>General Business</td>\n",
       "      <td>0.003529</td>\n",
       "      <td>0.021471</td>\n",
       "      <td>0.025000</td>\n",
       "    </tr>\n",
       "    <tr>\n",
       "      <td>General Studies/AS</td>\n",
       "      <td>0.000588</td>\n",
       "      <td>0.002941</td>\n",
       "      <td>0.003529</td>\n",
       "    </tr>\n",
       "    <tr>\n",
       "      <td>Geology</td>\n",
       "      <td>0.000000</td>\n",
       "      <td>0.001176</td>\n",
       "      <td>0.001176</td>\n",
       "    </tr>\n",
       "    <tr>\n",
       "      <td>Health Science</td>\n",
       "      <td>0.001765</td>\n",
       "      <td>0.012353</td>\n",
       "      <td>0.014118</td>\n",
       "    </tr>\n",
       "    <tr>\n",
       "      <td>Health and Physical Education</td>\n",
       "      <td>0.001471</td>\n",
       "      <td>0.004412</td>\n",
       "      <td>0.005882</td>\n",
       "    </tr>\n",
       "    <tr>\n",
       "      <td>History</td>\n",
       "      <td>0.002353</td>\n",
       "      <td>0.007353</td>\n",
       "      <td>0.009706</td>\n",
       "    </tr>\n",
       "    <tr>\n",
       "      <td>History and Secondary Ed</td>\n",
       "      <td>0.002059</td>\n",
       "      <td>0.005882</td>\n",
       "      <td>0.007941</td>\n",
       "    </tr>\n",
       "    <tr>\n",
       "      <td>Information Technology</td>\n",
       "      <td>0.000882</td>\n",
       "      <td>0.002059</td>\n",
       "      <td>0.002941</td>\n",
       "    </tr>\n",
       "    <tr>\n",
       "      <td>Joint Enrollment - Accel</td>\n",
       "      <td>0.000000</td>\n",
       "      <td>0.010294</td>\n",
       "      <td>0.010294</td>\n",
       "    </tr>\n",
       "    <tr>\n",
       "      <td>Liberal Arts</td>\n",
       "      <td>0.000000</td>\n",
       "      <td>0.000294</td>\n",
       "      <td>0.000294</td>\n",
       "    </tr>\n",
       "    <tr>\n",
       "      <td>Management</td>\n",
       "      <td>0.004412</td>\n",
       "      <td>0.016765</td>\n",
       "      <td>0.021176</td>\n",
       "    </tr>\n",
       "    <tr>\n",
       "      <td>Management Information Systems</td>\n",
       "      <td>0.002059</td>\n",
       "      <td>0.004118</td>\n",
       "      <td>0.006176</td>\n",
       "    </tr>\n",
       "    <tr>\n",
       "      <td>Marketing</td>\n",
       "      <td>0.004412</td>\n",
       "      <td>0.012941</td>\n",
       "      <td>0.017353</td>\n",
       "    </tr>\n",
       "    <tr>\n",
       "      <td>Mathematics</td>\n",
       "      <td>0.001765</td>\n",
       "      <td>0.005882</td>\n",
       "      <td>0.007647</td>\n",
       "    </tr>\n",
       "    <tr>\n",
       "      <td>Mathematics and Secondary Ed</td>\n",
       "      <td>0.000294</td>\n",
       "      <td>0.002941</td>\n",
       "      <td>0.003235</td>\n",
       "    </tr>\n",
       "    <tr>\n",
       "      <td>Middle Grades Education</td>\n",
       "      <td>0.000882</td>\n",
       "      <td>0.004118</td>\n",
       "      <td>0.005000</td>\n",
       "    </tr>\n",
       "    <tr>\n",
       "      <td>Music</td>\n",
       "      <td>0.001765</td>\n",
       "      <td>0.003235</td>\n",
       "      <td>0.005000</td>\n",
       "    </tr>\n",
       "    <tr>\n",
       "      <td>Music Education</td>\n",
       "      <td>0.002353</td>\n",
       "      <td>0.025882</td>\n",
       "      <td>0.028235</td>\n",
       "    </tr>\n",
       "    <tr>\n",
       "      <td>Music Performance</td>\n",
       "      <td>0.003529</td>\n",
       "      <td>0.025588</td>\n",
       "      <td>0.029118</td>\n",
       "    </tr>\n",
       "    <tr>\n",
       "      <td>Nursing</td>\n",
       "      <td>0.010882</td>\n",
       "      <td>0.037353</td>\n",
       "      <td>0.048235</td>\n",
       "    </tr>\n",
       "    <tr>\n",
       "      <td>Political Science</td>\n",
       "      <td>0.004118</td>\n",
       "      <td>0.014706</td>\n",
       "      <td>0.018824</td>\n",
       "    </tr>\n",
       "    <tr>\n",
       "      <td>Pre-Business</td>\n",
       "      <td>0.009412</td>\n",
       "      <td>0.029706</td>\n",
       "      <td>0.039118</td>\n",
       "    </tr>\n",
       "    <tr>\n",
       "      <td>Pre-Engineering/RETP</td>\n",
       "      <td>0.002059</td>\n",
       "      <td>0.005882</td>\n",
       "      <td>0.007941</td>\n",
       "    </tr>\n",
       "    <tr>\n",
       "      <td>Pre-Nursing</td>\n",
       "      <td>0.013824</td>\n",
       "      <td>0.038235</td>\n",
       "      <td>0.052059</td>\n",
       "    </tr>\n",
       "    <tr>\n",
       "      <td>Psychology</td>\n",
       "      <td>0.012647</td>\n",
       "      <td>0.032941</td>\n",
       "      <td>0.045588</td>\n",
       "    </tr>\n",
       "    <tr>\n",
       "      <td>Sociology</td>\n",
       "      <td>0.001176</td>\n",
       "      <td>0.004706</td>\n",
       "      <td>0.005882</td>\n",
       "    </tr>\n",
       "    <tr>\n",
       "      <td>Spanish</td>\n",
       "      <td>0.000000</td>\n",
       "      <td>0.001471</td>\n",
       "      <td>0.001471</td>\n",
       "    </tr>\n",
       "    <tr>\n",
       "      <td>Spanish with Teacher Cert</td>\n",
       "      <td>0.000294</td>\n",
       "      <td>0.000882</td>\n",
       "      <td>0.001176</td>\n",
       "    </tr>\n",
       "    <tr>\n",
       "      <td>Spec Ed: Gen. Curr. - Reading</td>\n",
       "      <td>0.000882</td>\n",
       "      <td>0.002941</td>\n",
       "      <td>0.003824</td>\n",
       "    </tr>\n",
       "    <tr>\n",
       "      <td>Theatre Arts</td>\n",
       "      <td>0.003529</td>\n",
       "      <td>0.035000</td>\n",
       "      <td>0.038529</td>\n",
       "    </tr>\n",
       "    <tr>\n",
       "      <td>Theatre Education</td>\n",
       "      <td>0.000882</td>\n",
       "      <td>0.007647</td>\n",
       "      <td>0.008529</td>\n",
       "    </tr>\n",
       "    <tr>\n",
       "      <td>Undeclared</td>\n",
       "      <td>0.032647</td>\n",
       "      <td>0.102647</td>\n",
       "      <td>0.135294</td>\n",
       "    </tr>\n",
       "    <tr>\n",
       "      <td>All</td>\n",
       "      <td>0.212647</td>\n",
       "      <td>0.787353</td>\n",
       "      <td>1.000000</td>\n",
       "    </tr>\n",
       "  </tbody>\n",
       "</table>\n",
       "</div>"
      ],
      "text/plain": [
       "Left                                   0         1       All\n",
       "Major                                                       \n",
       "Accounting                      0.003529  0.012353  0.015882\n",
       "Applied Computer Science        0.001471  0.007941  0.009412\n",
       "Art                             0.005294  0.016765  0.022059\n",
       "Art Education                   0.000588  0.002059  0.002647\n",
       "Biology                         0.024118  0.082353  0.106471\n",
       "Biology and Secondary Ed        0.000882  0.000588  0.001471\n",
       "Chemistry                       0.002941  0.015882  0.018824\n",
       "Chemistry and Secondary Ed      0.000000  0.000588  0.000588\n",
       "Communication                   0.004118  0.016471  0.020588\n",
       "Computer Science - Games        0.004118  0.007647  0.011765\n",
       "Computer Science - Systems      0.002647  0.014412  0.017059\n",
       "Criminal Justice                0.008529  0.020294  0.028824\n",
       "Early Admission - Accel         0.000000  0.000882  0.000882\n",
       "Early Childhood Education       0.010882  0.045000  0.055882\n",
       "Earth and Space Science         0.000294  0.000294  0.000588\n",
       "Engineering Studies             0.004412  0.013235  0.017647\n",
       "English Language/Literature     0.002647  0.015000  0.017647\n",
       "English and Secondary Ed        0.001176  0.007059  0.008235\n",
       "Exercise Science                0.005588  0.018235  0.023824\n",
       "Finance                         0.002353  0.004706  0.007059\n",
       "French                          0.000294  0.000882  0.001176\n",
       "French with Teacher Cert        0.000294  0.000882  0.001176\n",
       "General Business                0.003529  0.021471  0.025000\n",
       "General Studies/AS              0.000588  0.002941  0.003529\n",
       "Geology                         0.000000  0.001176  0.001176\n",
       "Health Science                  0.001765  0.012353  0.014118\n",
       "Health and Physical Education   0.001471  0.004412  0.005882\n",
       "History                         0.002353  0.007353  0.009706\n",
       "History and Secondary Ed        0.002059  0.005882  0.007941\n",
       "Information Technology          0.000882  0.002059  0.002941\n",
       "Joint Enrollment - Accel        0.000000  0.010294  0.010294\n",
       "Liberal Arts                    0.000000  0.000294  0.000294\n",
       "Management                      0.004412  0.016765  0.021176\n",
       "Management Information Systems  0.002059  0.004118  0.006176\n",
       "Marketing                       0.004412  0.012941  0.017353\n",
       "Mathematics                     0.001765  0.005882  0.007647\n",
       "Mathematics and Secondary Ed    0.000294  0.002941  0.003235\n",
       "Middle Grades Education         0.000882  0.004118  0.005000\n",
       "Music                           0.001765  0.003235  0.005000\n",
       "Music Education                 0.002353  0.025882  0.028235\n",
       "Music Performance               0.003529  0.025588  0.029118\n",
       "Nursing                         0.010882  0.037353  0.048235\n",
       "Political Science               0.004118  0.014706  0.018824\n",
       "Pre-Business                    0.009412  0.029706  0.039118\n",
       "Pre-Engineering/RETP            0.002059  0.005882  0.007941\n",
       "Pre-Nursing                     0.013824  0.038235  0.052059\n",
       "Psychology                      0.012647  0.032941  0.045588\n",
       "Sociology                       0.001176  0.004706  0.005882\n",
       "Spanish                         0.000000  0.001471  0.001471\n",
       "Spanish with Teacher Cert       0.000294  0.000882  0.001176\n",
       "Spec Ed: Gen. Curr. - Reading   0.000882  0.002941  0.003824\n",
       "Theatre Arts                    0.003529  0.035000  0.038529\n",
       "Theatre Education               0.000882  0.007647  0.008529\n",
       "Undeclared                      0.032647  0.102647  0.135294\n",
       "All                             0.212647  0.787353  1.000000"
      ]
     },
     "execution_count": 30,
     "metadata": {},
     "output_type": "execute_result"
    }
   ],
   "source": [
    "pd.crosstab(data.STDNT_MAJOR,data.RETURNED_2ND_YR, margins=True, rownames=[\"Major\"], colnames=[\"Left\"])/data.shape[0]"
   ]
  },
  {
   "cell_type": "code",
   "execution_count": 31,
   "metadata": {},
   "outputs": [
    {
     "data": {
      "text/html": [
       "<div>\n",
       "<style scoped>\n",
       "    .dataframe tbody tr th:only-of-type {\n",
       "        vertical-align: middle;\n",
       "    }\n",
       "\n",
       "    .dataframe tbody tr th {\n",
       "        vertical-align: top;\n",
       "    }\n",
       "\n",
       "    .dataframe thead th {\n",
       "        text-align: right;\n",
       "    }\n",
       "</style>\n",
       "<table border=\"1\" class=\"dataframe\">\n",
       "  <thead>\n",
       "    <tr style=\"text-align: right;\">\n",
       "      <th>Left</th>\n",
       "      <th>0</th>\n",
       "      <th>1</th>\n",
       "      <th>All</th>\n",
       "    </tr>\n",
       "    <tr>\n",
       "      <th>Major</th>\n",
       "      <th></th>\n",
       "      <th></th>\n",
       "      <th></th>\n",
       "    </tr>\n",
       "  </thead>\n",
       "  <tbody>\n",
       "    <tr>\n",
       "      <td>Accounting</td>\n",
       "      <td>12</td>\n",
       "      <td>42</td>\n",
       "      <td>54</td>\n",
       "    </tr>\n",
       "    <tr>\n",
       "      <td>Applied Computer Science</td>\n",
       "      <td>5</td>\n",
       "      <td>27</td>\n",
       "      <td>32</td>\n",
       "    </tr>\n",
       "    <tr>\n",
       "      <td>Art</td>\n",
       "      <td>18</td>\n",
       "      <td>57</td>\n",
       "      <td>75</td>\n",
       "    </tr>\n",
       "    <tr>\n",
       "      <td>Art Education</td>\n",
       "      <td>2</td>\n",
       "      <td>7</td>\n",
       "      <td>9</td>\n",
       "    </tr>\n",
       "    <tr>\n",
       "      <td>Biology</td>\n",
       "      <td>82</td>\n",
       "      <td>280</td>\n",
       "      <td>362</td>\n",
       "    </tr>\n",
       "    <tr>\n",
       "      <td>Biology and Secondary Ed</td>\n",
       "      <td>3</td>\n",
       "      <td>2</td>\n",
       "      <td>5</td>\n",
       "    </tr>\n",
       "    <tr>\n",
       "      <td>Chemistry</td>\n",
       "      <td>10</td>\n",
       "      <td>54</td>\n",
       "      <td>64</td>\n",
       "    </tr>\n",
       "    <tr>\n",
       "      <td>Chemistry and Secondary Ed</td>\n",
       "      <td>0</td>\n",
       "      <td>2</td>\n",
       "      <td>2</td>\n",
       "    </tr>\n",
       "    <tr>\n",
       "      <td>Communication</td>\n",
       "      <td>14</td>\n",
       "      <td>56</td>\n",
       "      <td>70</td>\n",
       "    </tr>\n",
       "    <tr>\n",
       "      <td>Computer Science - Games</td>\n",
       "      <td>14</td>\n",
       "      <td>26</td>\n",
       "      <td>40</td>\n",
       "    </tr>\n",
       "    <tr>\n",
       "      <td>Computer Science - Systems</td>\n",
       "      <td>9</td>\n",
       "      <td>49</td>\n",
       "      <td>58</td>\n",
       "    </tr>\n",
       "    <tr>\n",
       "      <td>Criminal Justice</td>\n",
       "      <td>29</td>\n",
       "      <td>69</td>\n",
       "      <td>98</td>\n",
       "    </tr>\n",
       "    <tr>\n",
       "      <td>Early Admission - Accel</td>\n",
       "      <td>0</td>\n",
       "      <td>3</td>\n",
       "      <td>3</td>\n",
       "    </tr>\n",
       "    <tr>\n",
       "      <td>Early Childhood Education</td>\n",
       "      <td>37</td>\n",
       "      <td>153</td>\n",
       "      <td>190</td>\n",
       "    </tr>\n",
       "    <tr>\n",
       "      <td>Earth and Space Science</td>\n",
       "      <td>1</td>\n",
       "      <td>1</td>\n",
       "      <td>2</td>\n",
       "    </tr>\n",
       "    <tr>\n",
       "      <td>Engineering Studies</td>\n",
       "      <td>15</td>\n",
       "      <td>45</td>\n",
       "      <td>60</td>\n",
       "    </tr>\n",
       "    <tr>\n",
       "      <td>English Language/Literature</td>\n",
       "      <td>9</td>\n",
       "      <td>51</td>\n",
       "      <td>60</td>\n",
       "    </tr>\n",
       "    <tr>\n",
       "      <td>English and Secondary Ed</td>\n",
       "      <td>4</td>\n",
       "      <td>24</td>\n",
       "      <td>28</td>\n",
       "    </tr>\n",
       "    <tr>\n",
       "      <td>Exercise Science</td>\n",
       "      <td>19</td>\n",
       "      <td>62</td>\n",
       "      <td>81</td>\n",
       "    </tr>\n",
       "    <tr>\n",
       "      <td>Finance</td>\n",
       "      <td>8</td>\n",
       "      <td>16</td>\n",
       "      <td>24</td>\n",
       "    </tr>\n",
       "    <tr>\n",
       "      <td>French</td>\n",
       "      <td>1</td>\n",
       "      <td>3</td>\n",
       "      <td>4</td>\n",
       "    </tr>\n",
       "    <tr>\n",
       "      <td>French with Teacher Cert</td>\n",
       "      <td>1</td>\n",
       "      <td>3</td>\n",
       "      <td>4</td>\n",
       "    </tr>\n",
       "    <tr>\n",
       "      <td>General Business</td>\n",
       "      <td>12</td>\n",
       "      <td>73</td>\n",
       "      <td>85</td>\n",
       "    </tr>\n",
       "    <tr>\n",
       "      <td>General Studies/AS</td>\n",
       "      <td>2</td>\n",
       "      <td>10</td>\n",
       "      <td>12</td>\n",
       "    </tr>\n",
       "    <tr>\n",
       "      <td>Geology</td>\n",
       "      <td>0</td>\n",
       "      <td>4</td>\n",
       "      <td>4</td>\n",
       "    </tr>\n",
       "    <tr>\n",
       "      <td>Health Science</td>\n",
       "      <td>6</td>\n",
       "      <td>42</td>\n",
       "      <td>48</td>\n",
       "    </tr>\n",
       "    <tr>\n",
       "      <td>Health and Physical Education</td>\n",
       "      <td>5</td>\n",
       "      <td>15</td>\n",
       "      <td>20</td>\n",
       "    </tr>\n",
       "    <tr>\n",
       "      <td>History</td>\n",
       "      <td>8</td>\n",
       "      <td>25</td>\n",
       "      <td>33</td>\n",
       "    </tr>\n",
       "    <tr>\n",
       "      <td>History and Secondary Ed</td>\n",
       "      <td>7</td>\n",
       "      <td>20</td>\n",
       "      <td>27</td>\n",
       "    </tr>\n",
       "    <tr>\n",
       "      <td>Information Technology</td>\n",
       "      <td>3</td>\n",
       "      <td>7</td>\n",
       "      <td>10</td>\n",
       "    </tr>\n",
       "    <tr>\n",
       "      <td>Joint Enrollment - Accel</td>\n",
       "      <td>0</td>\n",
       "      <td>35</td>\n",
       "      <td>35</td>\n",
       "    </tr>\n",
       "    <tr>\n",
       "      <td>Liberal Arts</td>\n",
       "      <td>0</td>\n",
       "      <td>1</td>\n",
       "      <td>1</td>\n",
       "    </tr>\n",
       "    <tr>\n",
       "      <td>Management</td>\n",
       "      <td>15</td>\n",
       "      <td>57</td>\n",
       "      <td>72</td>\n",
       "    </tr>\n",
       "    <tr>\n",
       "      <td>Management Information Systems</td>\n",
       "      <td>7</td>\n",
       "      <td>14</td>\n",
       "      <td>21</td>\n",
       "    </tr>\n",
       "    <tr>\n",
       "      <td>Marketing</td>\n",
       "      <td>15</td>\n",
       "      <td>44</td>\n",
       "      <td>59</td>\n",
       "    </tr>\n",
       "    <tr>\n",
       "      <td>Mathematics</td>\n",
       "      <td>6</td>\n",
       "      <td>20</td>\n",
       "      <td>26</td>\n",
       "    </tr>\n",
       "    <tr>\n",
       "      <td>Mathematics and Secondary Ed</td>\n",
       "      <td>1</td>\n",
       "      <td>10</td>\n",
       "      <td>11</td>\n",
       "    </tr>\n",
       "    <tr>\n",
       "      <td>Middle Grades Education</td>\n",
       "      <td>3</td>\n",
       "      <td>14</td>\n",
       "      <td>17</td>\n",
       "    </tr>\n",
       "    <tr>\n",
       "      <td>Music</td>\n",
       "      <td>6</td>\n",
       "      <td>11</td>\n",
       "      <td>17</td>\n",
       "    </tr>\n",
       "    <tr>\n",
       "      <td>Music Education</td>\n",
       "      <td>8</td>\n",
       "      <td>88</td>\n",
       "      <td>96</td>\n",
       "    </tr>\n",
       "    <tr>\n",
       "      <td>Music Performance</td>\n",
       "      <td>12</td>\n",
       "      <td>87</td>\n",
       "      <td>99</td>\n",
       "    </tr>\n",
       "    <tr>\n",
       "      <td>Nursing</td>\n",
       "      <td>37</td>\n",
       "      <td>127</td>\n",
       "      <td>164</td>\n",
       "    </tr>\n",
       "    <tr>\n",
       "      <td>Political Science</td>\n",
       "      <td>14</td>\n",
       "      <td>50</td>\n",
       "      <td>64</td>\n",
       "    </tr>\n",
       "    <tr>\n",
       "      <td>Pre-Business</td>\n",
       "      <td>32</td>\n",
       "      <td>101</td>\n",
       "      <td>133</td>\n",
       "    </tr>\n",
       "    <tr>\n",
       "      <td>Pre-Engineering/RETP</td>\n",
       "      <td>7</td>\n",
       "      <td>20</td>\n",
       "      <td>27</td>\n",
       "    </tr>\n",
       "    <tr>\n",
       "      <td>Pre-Nursing</td>\n",
       "      <td>47</td>\n",
       "      <td>130</td>\n",
       "      <td>177</td>\n",
       "    </tr>\n",
       "    <tr>\n",
       "      <td>Psychology</td>\n",
       "      <td>43</td>\n",
       "      <td>112</td>\n",
       "      <td>155</td>\n",
       "    </tr>\n",
       "    <tr>\n",
       "      <td>Sociology</td>\n",
       "      <td>4</td>\n",
       "      <td>16</td>\n",
       "      <td>20</td>\n",
       "    </tr>\n",
       "    <tr>\n",
       "      <td>Spanish</td>\n",
       "      <td>0</td>\n",
       "      <td>5</td>\n",
       "      <td>5</td>\n",
       "    </tr>\n",
       "    <tr>\n",
       "      <td>Spanish with Teacher Cert</td>\n",
       "      <td>1</td>\n",
       "      <td>3</td>\n",
       "      <td>4</td>\n",
       "    </tr>\n",
       "    <tr>\n",
       "      <td>Spec Ed: Gen. Curr. - Reading</td>\n",
       "      <td>3</td>\n",
       "      <td>10</td>\n",
       "      <td>13</td>\n",
       "    </tr>\n",
       "    <tr>\n",
       "      <td>Theatre Arts</td>\n",
       "      <td>12</td>\n",
       "      <td>119</td>\n",
       "      <td>131</td>\n",
       "    </tr>\n",
       "    <tr>\n",
       "      <td>Theatre Education</td>\n",
       "      <td>3</td>\n",
       "      <td>26</td>\n",
       "      <td>29</td>\n",
       "    </tr>\n",
       "    <tr>\n",
       "      <td>Undeclared</td>\n",
       "      <td>111</td>\n",
       "      <td>349</td>\n",
       "      <td>460</td>\n",
       "    </tr>\n",
       "    <tr>\n",
       "      <td>All</td>\n",
       "      <td>723</td>\n",
       "      <td>2677</td>\n",
       "      <td>3400</td>\n",
       "    </tr>\n",
       "  </tbody>\n",
       "</table>\n",
       "</div>"
      ],
      "text/plain": [
       "Left                              0     1   All\n",
       "Major                                          \n",
       "Accounting                       12    42    54\n",
       "Applied Computer Science          5    27    32\n",
       "Art                              18    57    75\n",
       "Art Education                     2     7     9\n",
       "Biology                          82   280   362\n",
       "Biology and Secondary Ed          3     2     5\n",
       "Chemistry                        10    54    64\n",
       "Chemistry and Secondary Ed        0     2     2\n",
       "Communication                    14    56    70\n",
       "Computer Science - Games         14    26    40\n",
       "Computer Science - Systems        9    49    58\n",
       "Criminal Justice                 29    69    98\n",
       "Early Admission - Accel           0     3     3\n",
       "Early Childhood Education        37   153   190\n",
       "Earth and Space Science           1     1     2\n",
       "Engineering Studies              15    45    60\n",
       "English Language/Literature       9    51    60\n",
       "English and Secondary Ed          4    24    28\n",
       "Exercise Science                 19    62    81\n",
       "Finance                           8    16    24\n",
       "French                            1     3     4\n",
       "French with Teacher Cert          1     3     4\n",
       "General Business                 12    73    85\n",
       "General Studies/AS                2    10    12\n",
       "Geology                           0     4     4\n",
       "Health Science                    6    42    48\n",
       "Health and Physical Education     5    15    20\n",
       "History                           8    25    33\n",
       "History and Secondary Ed          7    20    27\n",
       "Information Technology            3     7    10\n",
       "Joint Enrollment - Accel          0    35    35\n",
       "Liberal Arts                      0     1     1\n",
       "Management                       15    57    72\n",
       "Management Information Systems    7    14    21\n",
       "Marketing                        15    44    59\n",
       "Mathematics                       6    20    26\n",
       "Mathematics and Secondary Ed      1    10    11\n",
       "Middle Grades Education           3    14    17\n",
       "Music                             6    11    17\n",
       "Music Education                   8    88    96\n",
       "Music Performance                12    87    99\n",
       "Nursing                          37   127   164\n",
       "Political Science                14    50    64\n",
       "Pre-Business                     32   101   133\n",
       "Pre-Engineering/RETP              7    20    27\n",
       "Pre-Nursing                      47   130   177\n",
       "Psychology                       43   112   155\n",
       "Sociology                         4    16    20\n",
       "Spanish                           0     5     5\n",
       "Spanish with Teacher Cert         1     3     4\n",
       "Spec Ed: Gen. Curr. - Reading     3    10    13\n",
       "Theatre Arts                     12   119   131\n",
       "Theatre Education                 3    26    29\n",
       "Undeclared                      111   349   460\n",
       "All                             723  2677  3400"
      ]
     },
     "execution_count": 31,
     "metadata": {},
     "output_type": "execute_result"
    }
   ],
   "source": [
    "pd.crosstab(data.STDNT_MAJOR,data.RETURNED_2ND_YR, margins=True, rownames=[\"Major\"], colnames=[\"Left\"])"
   ]
  },
  {
   "cell_type": "markdown",
   "metadata": {},
   "source": [
    "Left\t0\t1\tAll\n",
    "Major\t\t\t\n",
    "Accounting\t12\t42\t54 (Business)\n",
    "Applied Computer Science\t5\t27\t32(IT)\n",
    "Art\t18\t57\t75(Art)\n",
    "Art Education\t2\t7\t9(Art)\n",
    "Biology\t82\t280\t362(Science)\n",
    "Biology and Secondary Ed\t3\t2\t5(Science)\n",
    "Chemistry\t10\t54\t64(Science)\n",
    "Chemistry and Secondary Ed\t0\t2\t2(Science)\n",
    "Communication\t14\t56\t70 (Social Studies)\n",
    "Computer Science - Games\t14\t26\t40(IT)\n",
    "Computer Science - Systems\t9\t49\t58(IT)\n",
    "Criminal Justice\t29\t69\t98 (Business)\n",
    "Early Admission - Accel\t0\t3\t3\n",
    "Early Childhood Education\t37\t153\t190 (Social Studies)\n",
    "Earth and Space Science\t1\t1\t2(Science)\n",
    "Engineering Studies\t15\t45\t60 (Science)\n",
    "English Language/Literature\t9\t51\t60(Language)\n",
    "English and Secondary Ed\t4\t24\t28(Language)\n",
    "Exercise Science\t19\t62\t81(Science)\n",
    "Finance\t8\t16\t24 (Business)\n",
    "French\t1\t3\t4(Language)\n",
    "French with Teacher Cert\t1\t3\t4(Language)\n",
    "General Business\t12\t73\t85 (Business)\n",
    "General Studies/AS\t2\t10\t12(Art)\n",
    "Geology\t0\t4\t4(Science)\n",
    "Health Science\t6\t42\t48(Science)\n",
    "Health and Physical Education\t5\t15\t20(Science)\n",
    "History\t8\t25\t33(Social Studies)\n",
    "History and Secondary Ed\t7\t20\t27(Social Studies))\n",
    "Information Technology\t3\t7\t10 (IT)\n",
    "Joint Enrollment - Accel\t0\t35\t35\n",
    "Liberal Arts\t0\t1\t1(Art)\n",
    "Management\t15\t57\t72 (Business)\n",
    "Management Information Systems\t7\t14\t21 (Business)\n",
    "Marketing\t15\t44\t59 (Business)\n",
    "Mathematics\t6\t20\t26 (Math)\n",
    "Mathematics and Secondary Ed\t1\t10\t11(Math)\n",
    "Middle Grades Education\t3\t14\t17 (Social Studies)\n",
    "Music\t6\t11\t17(Art)\n",
    "Music Education\t8\t88\t96(Art)\n",
    "Music Performance\t12\t87\t99(Art)\n",
    "Nursing\t37\t127\t164 (Medical)\n",
    "Political Science\t14\t50\t64 (Art)\n",
    "Pre-Business\t32\t101\t133 (Business)\n",
    "Pre-Engineering/RETP\t7\t20\t27 (Science)\n",
    "Pre-Nursing\t47\t130\t177 (Medical)\n",
    "Psychology\t43\t112\t155(Social Studies)\n",
    "Sociology\t4\t16\t20(Social Studies)\n",
    "Spanish\t0\t5\t5 (Language)\n",
    "Spanish with Teacher Cert\t1\t3\t4(Language)\n",
    "Spec Ed: Gen. Curr. - Reading\t3\t10\t13(Language)\n",
    "Theatre Arts\t12\t119\t131(Art)\n",
    "Theatre Education\t3\t26\t29(Art)\n",
    "Undeclared\t111\t349\t460 (Undeclared)\n"
   ]
  },
  {
   "cell_type": "code",
   "execution_count": 32,
   "metadata": {},
   "outputs": [],
   "source": [
    "data['STDNT_MAJOR']=data['STDNT_MAJOR'].replace({ 'Art':'Art', 'Art Education':'Art',\n",
    "'General Studies/AS':'Art',\n",
    "'Liberal Arts':'Art',\n",
    "'Music':'Art',\n",
    "'Music Education':'Art',\n",
    "'Music Performance':'Art',\n",
    "'Theatre Arts':'Art',\n",
    "'Theatre Education':'Art'})"
   ]
  },
  {
   "cell_type": "code",
   "execution_count": 33,
   "metadata": {},
   "outputs": [
    {
     "data": {
      "text/plain": [
       "array(['Undeclared', 'Mathematics', 'Art', 'Political Science', 'Biology',\n",
       "       'Accounting', 'Criminal Justice', 'Psychology', 'Nursing',\n",
       "       'Pre-Nursing', 'Chemistry', 'Pre-Engineering/RETP',\n",
       "       'Early Childhood Education', 'English Language/Literature',\n",
       "       'Joint Enrollment - Accel', 'History and Secondary Ed', 'History',\n",
       "       'Engineering Studies', 'Computer Science - Systems',\n",
       "       'Pre-Business', 'Management', 'Marketing', 'Communication',\n",
       "       'French with Teacher Cert', 'English and Secondary Ed',\n",
       "       'Exercise Science', 'General Business',\n",
       "       'Mathematics and Secondary Ed', 'Finance', 'French',\n",
       "       'Health Science', 'Spec Ed: Gen. Curr. - Reading',\n",
       "       'Middle Grades Education', 'Geology',\n",
       "       'Management Information Systems', 'Applied Computer Science',\n",
       "       'Information Technology', 'Sociology', 'Computer Science - Games',\n",
       "       'Spanish', 'Biology and Secondary Ed',\n",
       "       'Chemistry and Secondary Ed', 'Health and Physical Education',\n",
       "       'Spanish with Teacher Cert', 'Earth and Space Science',\n",
       "       'Early Admission - Accel'], dtype=object)"
      ]
     },
     "execution_count": 33,
     "metadata": {},
     "output_type": "execute_result"
    }
   ],
   "source": [
    "data['STDNT_MAJOR'].unique()"
   ]
  },
  {
   "cell_type": "code",
   "execution_count": 34,
   "metadata": {},
   "outputs": [],
   "source": [
    "data['STDNT_MAJOR']=data['STDNT_MAJOR'].replace({'Accounting':'Business',\n",
    "'Criminal Justice':'Business',\n",
    "'Finance':'Business',\n",
    "'General Business':'Business',\n",
    "'Management':'Business',\n",
    "'Management Information Systems':'Business',\n",
    "'Marketing':'Business',\n",
    "'Pre-Business':'Business'})\n"
   ]
  },
  {
   "cell_type": "code",
   "execution_count": 35,
   "metadata": {},
   "outputs": [
    {
     "data": {
      "text/plain": [
       "array(['Undeclared', 'Mathematics', 'Art', 'Political Science', 'Biology',\n",
       "       'Business', 'Psychology', 'Nursing', 'Pre-Nursing', 'Chemistry',\n",
       "       'Pre-Engineering/RETP', 'Early Childhood Education',\n",
       "       'English Language/Literature', 'Joint Enrollment - Accel',\n",
       "       'History and Secondary Ed', 'History', 'Engineering Studies',\n",
       "       'Computer Science - Systems', 'Communication',\n",
       "       'French with Teacher Cert', 'English and Secondary Ed',\n",
       "       'Exercise Science', 'Mathematics and Secondary Ed', 'French',\n",
       "       'Health Science', 'Spec Ed: Gen. Curr. - Reading',\n",
       "       'Middle Grades Education', 'Geology', 'Applied Computer Science',\n",
       "       'Information Technology', 'Sociology', 'Computer Science - Games',\n",
       "       'Spanish', 'Biology and Secondary Ed',\n",
       "       'Chemistry and Secondary Ed', 'Health and Physical Education',\n",
       "       'Spanish with Teacher Cert', 'Earth and Space Science',\n",
       "       'Early Admission - Accel'], dtype=object)"
      ]
     },
     "execution_count": 35,
     "metadata": {},
     "output_type": "execute_result"
    }
   ],
   "source": [
    "data['STDNT_MAJOR'].unique()"
   ]
  },
  {
   "cell_type": "code",
   "execution_count": 36,
   "metadata": {},
   "outputs": [],
   "source": [
    "data['STDNT_MAJOR']=data['STDNT_MAJOR'].replace({'Applied Computer Science':'IT',\n",
    "'Computer Science - Games':'IT',\n",
    "'Computer Science - Systems':'IT',\n",
    "'Information Technology':'IT'})\n"
   ]
  },
  {
   "cell_type": "code",
   "execution_count": 37,
   "metadata": {},
   "outputs": [],
   "source": [
    "data['STDNT_MAJOR']=data['STDNT_MAJOR'].replace({'English Language/Literature':'Language',\n",
    "'English and Secondary Ed':'Language',\n",
    "'French':'Language',\n",
    "'French with Teacher Cert':'Language',\n",
    "'Spanish':'Language',\n",
    "'Spanish with Teacher Cert':'Language',\n",
    "'Spec Ed: Gen. Curr. - Reading':'Language'})\n"
   ]
  },
  {
   "cell_type": "code",
   "execution_count": 38,
   "metadata": {},
   "outputs": [],
   "source": [
    "data['STDNT_MAJOR']=data['STDNT_MAJOR'].replace({'Mathematics':'Math',\n",
    "'Mathematics and Secondary Ed':'Math'})\n"
   ]
  },
  {
   "cell_type": "code",
   "execution_count": 39,
   "metadata": {},
   "outputs": [],
   "source": [
    "data['STDNT_MAJOR']=data['STDNT_MAJOR'].replace({'Nursing':'Medical',\n",
    "'Pre-Nursing':'Medical'})\n"
   ]
  },
  {
   "cell_type": "code",
   "execution_count": 40,
   "metadata": {},
   "outputs": [],
   "source": [
    "data['STDNT_MAJOR']=data['STDNT_MAJOR'].replace({'Biology':'Science',\n",
    "'Biology and Secondary Ed':'Science',\n",
    "'Chemistry':'Science',\n",
    "'Chemistry and Secondary Ed':'Science',\n",
    "'Earth and Space Science':'Science',\n",
    "'Engineering Studies':'Science',\n",
    "'Exercise Science':'Science',\n",
    "'Geology':'Science',\n",
    "'Health Science':'Science',\n",
    "'Health and Physical Education':'Science',\n",
    "'Political Science':'Science',\n",
    "'Pre-Engineering/RETP':'Science'})\n"
   ]
  },
  {
   "cell_type": "code",
   "execution_count": 41,
   "metadata": {},
   "outputs": [],
   "source": [
    "data['STDNT_MAJOR']=data['STDNT_MAJOR'].replace({'Communication':'Social Studeies',\n",
    "'Early Childhood Education':'Social Studeies',\n",
    "'History':'Social Studeies',\n",
    "'History and Secondary Ed':'Social Studeies',\n",
    "'Middle Grades Education':'Social Studeies',\n",
    "'Psychology':'Social Studeies',\n",
    "'Sociology':'Social Studeies'})\n",
    "# leave undeclared as is\n"
   ]
  },
  {
   "cell_type": "code",
   "execution_count": 42,
   "metadata": {},
   "outputs": [],
   "source": [
    "data['STDNT_MAJOR']=data['STDNT_MAJOR'].replace({'Early Admission - Accel':'Early',\n",
    "'Joint Enrollment - Accel':'Early'})\n"
   ]
  },
  {
   "cell_type": "code",
   "execution_count": 43,
   "metadata": {},
   "outputs": [
    {
     "data": {
      "text/plain": [
       "array(['Undeclared', 'Math', 'Art', 'Science', 'Business',\n",
       "       'Social Studeies', 'Medical', 'Language', 'Early', 'IT'],\n",
       "      dtype=object)"
      ]
     },
     "execution_count": 43,
     "metadata": {},
     "output_type": "execute_result"
    }
   ],
   "source": [
    "data['STDNT_MAJOR'].unique()"
   ]
  },
  {
   "cell_type": "code",
   "execution_count": 44,
   "metadata": {},
   "outputs": [],
   "source": [
    "data['FIRST_TERM_PERF'] = data['FIRST_TERM_EARNED_HRS']/data['FIRST_TERM_ATTEMPT_HRS']"
   ]
  },
  {
   "cell_type": "code",
   "execution_count": 45,
   "metadata": {},
   "outputs": [],
   "source": [
    "data['SECOND_TERM_PERF'] = data['SECOND_TERM_EARNED_HRS']/data['SECOND_TERM_ATTEMPT_HRS']"
   ]
  },
  {
   "cell_type": "code",
   "execution_count": 46,
   "metadata": {},
   "outputs": [],
   "source": [
    "data['GROSS_FIN_NEED']=data['GROSS_FIN_NEED'].fillna(0)"
   ]
  },
  {
   "cell_type": "code",
   "execution_count": 47,
   "metadata": {
    "scrolled": true
   },
   "outputs": [
    {
     "data": {
      "text/plain": [
       "STDNT_AGE                   0\n",
       "STDNT_GENDER                0\n",
       "STDNT_BACKGROUND            0\n",
       "IN_STATE_FLAG               0\n",
       "INTERNATIONAL_STS           0\n",
       "STDNT_MAJOR                 0\n",
       "STDNT_TEST_ENTRANCE_COMB    0\n",
       "FIRST_TERM                  0\n",
       "SECOND_TERM                 0\n",
       "RETURNED_2ND_YR             0\n",
       "DISTANCE_FROM_HOME          0\n",
       "HIGH_SCHL_GPA               0\n",
       "FATHER_HI_EDU_DESC          0\n",
       "MOTHER_HI_EDU_DESC          0\n",
       "DEGREE_GROUP_CD             0\n",
       "DEGREE_GROUP_DESC           0\n",
       "FIRST_TERM_ATTEMPT_HRS      0\n",
       "FIRST_TERM_EARNED_HRS       0\n",
       "SECOND_TERM_ATTEMPT_HRS     0\n",
       "SECOND_TERM_EARNED_HRS      0\n",
       "GROSS_FIN_NEED              0\n",
       "COST_OF_ATTEND              0\n",
       "EST_FAM_CONTRIBUTION        0\n",
       "UNMET_NEED                  0\n",
       "HOUSING_STS_Off Campus      0\n",
       "HOUSING_STS_On Campus       0\n",
       "FIRST_TERM_PERF             0\n",
       "SECOND_TERM_PERF            0\n",
       "dtype: int64"
      ]
     },
     "execution_count": 47,
     "metadata": {},
     "output_type": "execute_result"
    }
   ],
   "source": [
    "data.isnull().sum()"
   ]
  },
  {
   "cell_type": "code",
   "execution_count": 48,
   "metadata": {},
   "outputs": [],
   "source": [
    "# do the same for Gender/ Highschool GPA/ \n",
    "def d(x):\n",
    "    if x=='F':\n",
    "        return 1\n",
    "    else:\n",
    "        return 0"
   ]
  },
  {
   "cell_type": "code",
   "execution_count": 49,
   "metadata": {},
   "outputs": [
    {
     "data": {
      "text/plain": [
       "0       1\n",
       "1       1\n",
       "2       0\n",
       "3       0\n",
       "4       1\n",
       "       ..\n",
       "3395    1\n",
       "3396    1\n",
       "3397    1\n",
       "3398    1\n",
       "3399    0\n",
       "Name: STDNT_GENDER, Length: 3400, dtype: int64"
      ]
     },
     "execution_count": 49,
     "metadata": {},
     "output_type": "execute_result"
    }
   ],
   "source": [
    "data['STDNT_GENDER']=data['STDNT_GENDER'].map(d)\n",
    "data['STDNT_GENDER']"
   ]
  },
  {
   "cell_type": "code",
   "execution_count": 50,
   "metadata": {},
   "outputs": [
    {
     "data": {
      "text/plain": [
       "1    2140\n",
       "0    1260\n",
       "Name: STDNT_GENDER, dtype: int64"
      ]
     },
     "execution_count": 50,
     "metadata": {},
     "output_type": "execute_result"
    }
   ],
   "source": [
    "data['STDNT_GENDER'].value_counts()"
   ]
  },
  {
   "cell_type": "code",
   "execution_count": 51,
   "metadata": {},
   "outputs": [],
   "source": [
    "def g(x):\n",
    "    if x<=2.75:\n",
    "        return 'low'\n",
    "    elif 2.75<x<3.2:\n",
    "        return 'average'\n",
    "    else:\n",
    "        return 'high'"
   ]
  },
  {
   "cell_type": "code",
   "execution_count": 52,
   "metadata": {},
   "outputs": [],
   "source": [
    "#highschool GPA\n",
    "data['HIGH_SCHL_GPA']=data['HIGH_SCHL_GPA'].map(g)"
   ]
  },
  {
   "cell_type": "code",
   "execution_count": 53,
   "metadata": {},
   "outputs": [
    {
     "data": {
      "text/plain": [
       "high       1765\n",
       "average    1041\n",
       "low         594\n",
       "Name: HIGH_SCHL_GPA, dtype: int64"
      ]
     },
     "execution_count": 53,
     "metadata": {},
     "output_type": "execute_result"
    }
   ],
   "source": [
    "data['HIGH_SCHL_GPA'].value_counts()"
   ]
  },
  {
   "cell_type": "code",
   "execution_count": 54,
   "metadata": {},
   "outputs": [],
   "source": [
    "def x(n):\n",
    "    if n<=750.0:\n",
    "        return 'Low'\n",
    "    elif 750<n<1000:\n",
    "        return 'Moderate'\n",
    "    else:\n",
    "        return 'High'"
   ]
  },
  {
   "cell_type": "code",
   "execution_count": 55,
   "metadata": {},
   "outputs": [],
   "source": [
    "data['STDNT_TEST_ENTRANCE_COMB']=data['STDNT_TEST_ENTRANCE_COMB'].map(x)"
   ]
  },
  {
   "cell_type": "code",
   "execution_count": 56,
   "metadata": {},
   "outputs": [],
   "source": [
    "#change unmet need , +ve value means 1, -ve mean 2, null value =0\n",
    "def m(x):\n",
    "    if x>0:\n",
    "        return 1.0\n",
    "    if x<0:\n",
    "        return 2.0\n",
    "    else:\n",
    "        return 0.0"
   ]
  },
  {
   "cell_type": "code",
   "execution_count": 57,
   "metadata": {},
   "outputs": [],
   "source": [
    "data['UNMET_NEED'] =data['UNMET_NEED'].map(m)"
   ]
  },
  {
   "cell_type": "code",
   "execution_count": 58,
   "metadata": {},
   "outputs": [
    {
     "data": {
      "text/plain": [
       "array([0., 1., 2.])"
      ]
     },
     "execution_count": 58,
     "metadata": {},
     "output_type": "execute_result"
    }
   ],
   "source": [
    "data['UNMET_NEED'].unique()"
   ]
  },
  {
   "cell_type": "code",
   "execution_count": 59,
   "metadata": {},
   "outputs": [
    {
     "data": {
      "text/plain": [
       "0.0    1805\n",
       "1.0    1037\n",
       "2.0     558\n",
       "Name: UNMET_NEED, dtype: int64"
      ]
     },
     "execution_count": 59,
     "metadata": {},
     "output_type": "execute_result"
    }
   ],
   "source": [
    "data['UNMET_NEED'].value_counts()"
   ]
  },
  {
   "cell_type": "code",
   "execution_count": 60,
   "metadata": {},
   "outputs": [],
   "source": [
    "X = data.drop(['RETURNED_2ND_YR','RETURNED_2ND_YR','FIRST_TERM_ATTEMPT_HRS','FIRST_TERM_EARNED_HRS','SECOND_TERM_ATTEMPT_HRS','SECOND_TERM_EARNED_HRS'],axis=1)\n",
    "\n",
    "y = data['RETURNED_2ND_YR']"
   ]
  },
  {
   "cell_type": "code",
   "execution_count": 61,
   "metadata": {},
   "outputs": [],
   "source": [
    "# create test and training\n",
    "X= pd.get_dummies(X)"
   ]
  },
  {
   "cell_type": "code",
   "execution_count": 62,
   "metadata": {},
   "outputs": [
    {
     "data": {
      "text/html": [
       "<div>\n",
       "<style scoped>\n",
       "    .dataframe tbody tr th:only-of-type {\n",
       "        vertical-align: middle;\n",
       "    }\n",
       "\n",
       "    .dataframe tbody tr th {\n",
       "        vertical-align: top;\n",
       "    }\n",
       "\n",
       "    .dataframe thead th {\n",
       "        text-align: right;\n",
       "    }\n",
       "</style>\n",
       "<table border=\"1\" class=\"dataframe\">\n",
       "  <thead>\n",
       "    <tr style=\"text-align: right;\">\n",
       "      <th></th>\n",
       "      <th>STDNT_AGE</th>\n",
       "      <th>STDNT_GENDER</th>\n",
       "      <th>FIRST_TERM</th>\n",
       "      <th>SECOND_TERM</th>\n",
       "      <th>DISTANCE_FROM_HOME</th>\n",
       "      <th>GROSS_FIN_NEED</th>\n",
       "      <th>COST_OF_ATTEND</th>\n",
       "      <th>EST_FAM_CONTRIBUTION</th>\n",
       "      <th>UNMET_NEED</th>\n",
       "      <th>HOUSING_STS_Off Campus</th>\n",
       "      <th>...</th>\n",
       "      <th>MOTHER_HI_EDU_DESC_High School</th>\n",
       "      <th>MOTHER_HI_EDU_DESC_Middle School/Junior High</th>\n",
       "      <th>MOTHER_HI_EDU_DESC_No Information</th>\n",
       "      <th>MOTHER_HI_EDU_DESC_Other/Unknown</th>\n",
       "      <th>DEGREE_GROUP_CD_A</th>\n",
       "      <th>DEGREE_GROUP_CD_B</th>\n",
       "      <th>DEGREE_GROUP_CD_V</th>\n",
       "      <th>DEGREE_GROUP_DESC_Associate</th>\n",
       "      <th>DEGREE_GROUP_DESC_Bachelors</th>\n",
       "      <th>DEGREE_GROUP_DESC_Career Associate</th>\n",
       "    </tr>\n",
       "  </thead>\n",
       "  <tbody>\n",
       "    <tr>\n",
       "      <td>0</td>\n",
       "      <td>18</td>\n",
       "      <td>1</td>\n",
       "      <td>2007</td>\n",
       "      <td>2008</td>\n",
       "      <td>150.0</td>\n",
       "      <td>0</td>\n",
       "      <td>0</td>\n",
       "      <td>0</td>\n",
       "      <td>0.0</td>\n",
       "      <td>0</td>\n",
       "      <td>...</td>\n",
       "      <td>0</td>\n",
       "      <td>0</td>\n",
       "      <td>1</td>\n",
       "      <td>0</td>\n",
       "      <td>0</td>\n",
       "      <td>1</td>\n",
       "      <td>0</td>\n",
       "      <td>0</td>\n",
       "      <td>1</td>\n",
       "      <td>0</td>\n",
       "    </tr>\n",
       "    <tr>\n",
       "      <td>1</td>\n",
       "      <td>19</td>\n",
       "      <td>1</td>\n",
       "      <td>2008</td>\n",
       "      <td>2009</td>\n",
       "      <td>69.0</td>\n",
       "      <td>570000</td>\n",
       "      <td>1355760</td>\n",
       "      <td>785760</td>\n",
       "      <td>1.0</td>\n",
       "      <td>1</td>\n",
       "      <td>...</td>\n",
       "      <td>0</td>\n",
       "      <td>0</td>\n",
       "      <td>0</td>\n",
       "      <td>0</td>\n",
       "      <td>0</td>\n",
       "      <td>1</td>\n",
       "      <td>0</td>\n",
       "      <td>0</td>\n",
       "      <td>1</td>\n",
       "      <td>0</td>\n",
       "    </tr>\n",
       "    <tr>\n",
       "      <td>2</td>\n",
       "      <td>18</td>\n",
       "      <td>0</td>\n",
       "      <td>2010</td>\n",
       "      <td>2011</td>\n",
       "      <td>150.0</td>\n",
       "      <td>0</td>\n",
       "      <td>0</td>\n",
       "      <td>0</td>\n",
       "      <td>0.0</td>\n",
       "      <td>0</td>\n",
       "      <td>...</td>\n",
       "      <td>0</td>\n",
       "      <td>0</td>\n",
       "      <td>0</td>\n",
       "      <td>1</td>\n",
       "      <td>0</td>\n",
       "      <td>1</td>\n",
       "      <td>0</td>\n",
       "      <td>0</td>\n",
       "      <td>1</td>\n",
       "      <td>0</td>\n",
       "    </tr>\n",
       "    <tr>\n",
       "      <td>3</td>\n",
       "      <td>18</td>\n",
       "      <td>0</td>\n",
       "      <td>2007</td>\n",
       "      <td>2008</td>\n",
       "      <td>150.0</td>\n",
       "      <td>0</td>\n",
       "      <td>0</td>\n",
       "      <td>0</td>\n",
       "      <td>0.0</td>\n",
       "      <td>0</td>\n",
       "      <td>...</td>\n",
       "      <td>0</td>\n",
       "      <td>0</td>\n",
       "      <td>0</td>\n",
       "      <td>0</td>\n",
       "      <td>0</td>\n",
       "      <td>1</td>\n",
       "      <td>0</td>\n",
       "      <td>0</td>\n",
       "      <td>1</td>\n",
       "      <td>0</td>\n",
       "    </tr>\n",
       "    <tr>\n",
       "      <td>4</td>\n",
       "      <td>18</td>\n",
       "      <td>1</td>\n",
       "      <td>2008</td>\n",
       "      <td>2009</td>\n",
       "      <td>69.0</td>\n",
       "      <td>835920</td>\n",
       "      <td>1355760</td>\n",
       "      <td>519840</td>\n",
       "      <td>1.0</td>\n",
       "      <td>1</td>\n",
       "      <td>...</td>\n",
       "      <td>1</td>\n",
       "      <td>0</td>\n",
       "      <td>0</td>\n",
       "      <td>0</td>\n",
       "      <td>0</td>\n",
       "      <td>1</td>\n",
       "      <td>0</td>\n",
       "      <td>0</td>\n",
       "      <td>1</td>\n",
       "      <td>0</td>\n",
       "    </tr>\n",
       "    <tr>\n",
       "      <td>...</td>\n",
       "      <td>...</td>\n",
       "      <td>...</td>\n",
       "      <td>...</td>\n",
       "      <td>...</td>\n",
       "      <td>...</td>\n",
       "      <td>...</td>\n",
       "      <td>...</td>\n",
       "      <td>...</td>\n",
       "      <td>...</td>\n",
       "      <td>...</td>\n",
       "      <td>...</td>\n",
       "      <td>...</td>\n",
       "      <td>...</td>\n",
       "      <td>...</td>\n",
       "      <td>...</td>\n",
       "      <td>...</td>\n",
       "      <td>...</td>\n",
       "      <td>...</td>\n",
       "      <td>...</td>\n",
       "      <td>...</td>\n",
       "      <td>...</td>\n",
       "    </tr>\n",
       "    <tr>\n",
       "      <td>3395</td>\n",
       "      <td>18</td>\n",
       "      <td>1</td>\n",
       "      <td>2008</td>\n",
       "      <td>2009</td>\n",
       "      <td>871.0</td>\n",
       "      <td>0</td>\n",
       "      <td>0</td>\n",
       "      <td>0</td>\n",
       "      <td>0.0</td>\n",
       "      <td>1</td>\n",
       "      <td>...</td>\n",
       "      <td>0</td>\n",
       "      <td>0</td>\n",
       "      <td>1</td>\n",
       "      <td>0</td>\n",
       "      <td>0</td>\n",
       "      <td>1</td>\n",
       "      <td>0</td>\n",
       "      <td>0</td>\n",
       "      <td>1</td>\n",
       "      <td>0</td>\n",
       "    </tr>\n",
       "    <tr>\n",
       "      <td>3396</td>\n",
       "      <td>18</td>\n",
       "      <td>1</td>\n",
       "      <td>2007</td>\n",
       "      <td>2008</td>\n",
       "      <td>69.0</td>\n",
       "      <td>0</td>\n",
       "      <td>0</td>\n",
       "      <td>0</td>\n",
       "      <td>0.0</td>\n",
       "      <td>1</td>\n",
       "      <td>...</td>\n",
       "      <td>0</td>\n",
       "      <td>0</td>\n",
       "      <td>1</td>\n",
       "      <td>0</td>\n",
       "      <td>0</td>\n",
       "      <td>1</td>\n",
       "      <td>0</td>\n",
       "      <td>0</td>\n",
       "      <td>1</td>\n",
       "      <td>0</td>\n",
       "    </tr>\n",
       "    <tr>\n",
       "      <td>3397</td>\n",
       "      <td>18</td>\n",
       "      <td>1</td>\n",
       "      <td>2008</td>\n",
       "      <td>2009</td>\n",
       "      <td>90.0</td>\n",
       "      <td>0</td>\n",
       "      <td>945840</td>\n",
       "      <td>1288980</td>\n",
       "      <td>0.0</td>\n",
       "      <td>0</td>\n",
       "      <td>...</td>\n",
       "      <td>1</td>\n",
       "      <td>0</td>\n",
       "      <td>0</td>\n",
       "      <td>0</td>\n",
       "      <td>0</td>\n",
       "      <td>1</td>\n",
       "      <td>0</td>\n",
       "      <td>0</td>\n",
       "      <td>1</td>\n",
       "      <td>0</td>\n",
       "    </tr>\n",
       "    <tr>\n",
       "      <td>3398</td>\n",
       "      <td>18</td>\n",
       "      <td>1</td>\n",
       "      <td>2010</td>\n",
       "      <td>2011</td>\n",
       "      <td>0.0</td>\n",
       "      <td>0</td>\n",
       "      <td>269100</td>\n",
       "      <td>0</td>\n",
       "      <td>2.0</td>\n",
       "      <td>1</td>\n",
       "      <td>...</td>\n",
       "      <td>0</td>\n",
       "      <td>0</td>\n",
       "      <td>0</td>\n",
       "      <td>0</td>\n",
       "      <td>0</td>\n",
       "      <td>1</td>\n",
       "      <td>0</td>\n",
       "      <td>0</td>\n",
       "      <td>1</td>\n",
       "      <td>0</td>\n",
       "    </tr>\n",
       "    <tr>\n",
       "      <td>3399</td>\n",
       "      <td>18</td>\n",
       "      <td>0</td>\n",
       "      <td>2010</td>\n",
       "      <td>2011</td>\n",
       "      <td>69.0</td>\n",
       "      <td>0</td>\n",
       "      <td>0</td>\n",
       "      <td>0</td>\n",
       "      <td>0.0</td>\n",
       "      <td>1</td>\n",
       "      <td>...</td>\n",
       "      <td>0</td>\n",
       "      <td>0</td>\n",
       "      <td>0</td>\n",
       "      <td>0</td>\n",
       "      <td>0</td>\n",
       "      <td>1</td>\n",
       "      <td>0</td>\n",
       "      <td>0</td>\n",
       "      <td>1</td>\n",
       "      <td>0</td>\n",
       "    </tr>\n",
       "  </tbody>\n",
       "</table>\n",
       "<p>3400 rows × 57 columns</p>\n",
       "</div>"
      ],
      "text/plain": [
       "      STDNT_AGE  STDNT_GENDER  FIRST_TERM  SECOND_TERM  DISTANCE_FROM_HOME  \\\n",
       "0            18             1        2007         2008               150.0   \n",
       "1            19             1        2008         2009                69.0   \n",
       "2            18             0        2010         2011               150.0   \n",
       "3            18             0        2007         2008               150.0   \n",
       "4            18             1        2008         2009                69.0   \n",
       "...         ...           ...         ...          ...                 ...   \n",
       "3395         18             1        2008         2009               871.0   \n",
       "3396         18             1        2007         2008                69.0   \n",
       "3397         18             1        2008         2009                90.0   \n",
       "3398         18             1        2010         2011                 0.0   \n",
       "3399         18             0        2010         2011                69.0   \n",
       "\n",
       "      GROSS_FIN_NEED  COST_OF_ATTEND  EST_FAM_CONTRIBUTION  UNMET_NEED  \\\n",
       "0                  0               0                     0         0.0   \n",
       "1             570000         1355760                785760         1.0   \n",
       "2                  0               0                     0         0.0   \n",
       "3                  0               0                     0         0.0   \n",
       "4             835920         1355760                519840         1.0   \n",
       "...              ...             ...                   ...         ...   \n",
       "3395               0               0                     0         0.0   \n",
       "3396               0               0                     0         0.0   \n",
       "3397               0          945840               1288980         0.0   \n",
       "3398               0          269100                     0         2.0   \n",
       "3399               0               0                     0         0.0   \n",
       "\n",
       "      HOUSING_STS_Off Campus  ...  MOTHER_HI_EDU_DESC_High School  \\\n",
       "0                          0  ...                               0   \n",
       "1                          1  ...                               0   \n",
       "2                          0  ...                               0   \n",
       "3                          0  ...                               0   \n",
       "4                          1  ...                               1   \n",
       "...                      ...  ...                             ...   \n",
       "3395                       1  ...                               0   \n",
       "3396                       1  ...                               0   \n",
       "3397                       0  ...                               1   \n",
       "3398                       1  ...                               0   \n",
       "3399                       1  ...                               0   \n",
       "\n",
       "      MOTHER_HI_EDU_DESC_Middle School/Junior High  \\\n",
       "0                                                0   \n",
       "1                                                0   \n",
       "2                                                0   \n",
       "3                                                0   \n",
       "4                                                0   \n",
       "...                                            ...   \n",
       "3395                                             0   \n",
       "3396                                             0   \n",
       "3397                                             0   \n",
       "3398                                             0   \n",
       "3399                                             0   \n",
       "\n",
       "      MOTHER_HI_EDU_DESC_No Information  MOTHER_HI_EDU_DESC_Other/Unknown  \\\n",
       "0                                     1                                 0   \n",
       "1                                     0                                 0   \n",
       "2                                     0                                 1   \n",
       "3                                     0                                 0   \n",
       "4                                     0                                 0   \n",
       "...                                 ...                               ...   \n",
       "3395                                  1                                 0   \n",
       "3396                                  1                                 0   \n",
       "3397                                  0                                 0   \n",
       "3398                                  0                                 0   \n",
       "3399                                  0                                 0   \n",
       "\n",
       "      DEGREE_GROUP_CD_A  DEGREE_GROUP_CD_B  DEGREE_GROUP_CD_V  \\\n",
       "0                     0                  1                  0   \n",
       "1                     0                  1                  0   \n",
       "2                     0                  1                  0   \n",
       "3                     0                  1                  0   \n",
       "4                     0                  1                  0   \n",
       "...                 ...                ...                ...   \n",
       "3395                  0                  1                  0   \n",
       "3396                  0                  1                  0   \n",
       "3397                  0                  1                  0   \n",
       "3398                  0                  1                  0   \n",
       "3399                  0                  1                  0   \n",
       "\n",
       "      DEGREE_GROUP_DESC_Associate  DEGREE_GROUP_DESC_Bachelors  \\\n",
       "0                               0                            1   \n",
       "1                               0                            1   \n",
       "2                               0                            1   \n",
       "3                               0                            1   \n",
       "4                               0                            1   \n",
       "...                           ...                          ...   \n",
       "3395                            0                            1   \n",
       "3396                            0                            1   \n",
       "3397                            0                            1   \n",
       "3398                            0                            1   \n",
       "3399                            0                            1   \n",
       "\n",
       "      DEGREE_GROUP_DESC_Career Associate  \n",
       "0                                      0  \n",
       "1                                      0  \n",
       "2                                      0  \n",
       "3                                      0  \n",
       "4                                      0  \n",
       "...                                  ...  \n",
       "3395                                   0  \n",
       "3396                                   0  \n",
       "3397                                   0  \n",
       "3398                                   0  \n",
       "3399                                   0  \n",
       "\n",
       "[3400 rows x 57 columns]"
      ]
     },
     "execution_count": 62,
     "metadata": {},
     "output_type": "execute_result"
    }
   ],
   "source": [
    "X"
   ]
  },
  {
   "cell_type": "code",
   "execution_count": 63,
   "metadata": {},
   "outputs": [],
   "source": [
    "import sklearn.model_selection as model_selection\n",
    "X_train,X_test,y_train,y_test = model_selection.train_test_split(X,y, test_size=0.3, random_state=200)"
   ]
  },
  {
   "cell_type": "code",
   "execution_count": 64,
   "metadata": {},
   "outputs": [],
   "source": [
    "from sklearn.ensemble import BaggingClassifier\n",
    "from sklearn.tree import DecisionTreeClassifier"
   ]
  },
  {
   "cell_type": "code",
   "execution_count": 65,
   "metadata": {},
   "outputs": [
    {
     "data": {
      "text/plain": [
       "DecisionTreeClassifier(class_weight=None, criterion='gini', max_depth=5,\n",
       "                       max_features=None, max_leaf_nodes=None,\n",
       "                       min_impurity_decrease=0.0, min_impurity_split=None,\n",
       "                       min_samples_leaf=1, min_samples_split=2,\n",
       "                       min_weight_fraction_leaf=0.0, presort=False,\n",
       "                       random_state=200, splitter='best')"
      ]
     },
     "execution_count": 65,
     "metadata": {},
     "output_type": "execute_result"
    }
   ],
   "source": [
    "import sklearn.tree as tree\n",
    "clf = tree.DecisionTreeClassifier(max_depth=5, random_state=200)\n",
    "clf.fit(X_train,y_train)"
   ]
  },
  {
   "cell_type": "code",
   "execution_count": 66,
   "metadata": {},
   "outputs": [],
   "source": [
    "clf = BaggingClassifier(oob_score=True,n_jobs=-1, n_estimators=20,random_state=400,\n",
    "                       base_estimator=DecisionTreeClassifier())\n",
    "#oob score is only used or bagging classifier"
   ]
  },
  {
   "cell_type": "code",
   "execution_count": 67,
   "metadata": {},
   "outputs": [
    {
     "name": "stderr",
     "output_type": "stream",
     "text": [
      "C:\\Users\\91990\\Downloads\\Data Science\\Anaconda\\lib\\site-packages\\sklearn\\ensemble\\bagging.py:611: UserWarning: Some inputs do not have OOB scores. This probably means too few estimators were used to compute any reliable oob estimates.\n",
      "  warn(\"Some inputs do not have OOB scores. \"\n",
      "C:\\Users\\91990\\Downloads\\Data Science\\Anaconda\\lib\\site-packages\\sklearn\\ensemble\\bagging.py:616: RuntimeWarning: invalid value encountered in true_divide\n",
      "  predictions.sum(axis=1)[:, np.newaxis])\n"
     ]
    },
    {
     "data": {
      "text/plain": [
       "BaggingClassifier(base_estimator=DecisionTreeClassifier(class_weight=None,\n",
       "                                                        criterion='gini',\n",
       "                                                        max_depth=None,\n",
       "                                                        max_features=None,\n",
       "                                                        max_leaf_nodes=None,\n",
       "                                                        min_impurity_decrease=0.0,\n",
       "                                                        min_impurity_split=None,\n",
       "                                                        min_samples_leaf=1,\n",
       "                                                        min_samples_split=2,\n",
       "                                                        min_weight_fraction_leaf=0.0,\n",
       "                                                        presort=False,\n",
       "                                                        random_state=None,\n",
       "                                                        splitter='best'),\n",
       "                  bootstrap=True, bootstrap_features=False, max_features=1.0,\n",
       "                  max_samples=1.0, n_estimators=20, n_jobs=-1, oob_score=True,\n",
       "                  random_state=400, verbose=0, warm_start=False)"
      ]
     },
     "execution_count": 67,
     "metadata": {},
     "output_type": "execute_result"
    }
   ],
   "source": [
    "clf.fit(X_train,y_train)"
   ]
  },
  {
   "cell_type": "code",
   "execution_count": 68,
   "metadata": {},
   "outputs": [
    {
     "data": {
      "text/plain": [
       "0.9953781512605042"
      ]
     },
     "execution_count": 68,
     "metadata": {},
     "output_type": "execute_result"
    }
   ],
   "source": [
    "clf.score(X_train,y_train)"
   ]
  },
  {
   "cell_type": "code",
   "execution_count": 69,
   "metadata": {},
   "outputs": [
    {
     "data": {
      "text/plain": [
       "0.8049019607843138"
      ]
     },
     "execution_count": 69,
     "metadata": {},
     "output_type": "execute_result"
    }
   ],
   "source": [
    "clf.score(X_test,y_test)"
   ]
  },
  {
   "cell_type": "code",
   "execution_count": 70,
   "metadata": {},
   "outputs": [
    {
     "data": {
      "text/plain": [
       "0.7815126050420168"
      ]
     },
     "execution_count": 70,
     "metadata": {},
     "output_type": "execute_result"
    }
   ],
   "source": [
    "clf.oob_score_"
   ]
  },
  {
   "cell_type": "code",
   "execution_count": 71,
   "metadata": {},
   "outputs": [
    {
     "data": {
      "text/plain": [
       "{100, 120, 140, 160, 180}"
      ]
     },
     "execution_count": 71,
     "metadata": {},
     "output_type": "execute_result"
    }
   ],
   "source": [
    "# set(range(100,200,20))"
   ]
  },
  {
   "cell_type": "code",
   "execution_count": 72,
   "metadata": {},
   "outputs": [
    {
     "name": "stdout",
     "output_type": "stream",
     "text": [
      "For n_estimators = 1350\n",
      "OOB score is 0.8302521008403362\n",
      "************************\n",
      "For n_estimators = 1360\n",
      "OOB score is 0.8306722689075631\n",
      "************************\n",
      "For n_estimators = 1370\n",
      "OOB score is 0.8302521008403362\n",
      "************************\n",
      "For n_estimators = 1380\n",
      "OOB score is 0.8302521008403362\n",
      "************************\n",
      "For n_estimators = 1390\n",
      "OOB score is 0.8306722689075631\n",
      "************************\n",
      "For n_estimators = 1400\n",
      "OOB score is 0.8306722689075631\n",
      "************************\n",
      "For n_estimators = 1410\n",
      "OOB score is 0.8302521008403362\n",
      "************************\n",
      "For n_estimators = 1420\n",
      "OOB score is 0.8298319327731093\n",
      "************************\n",
      "For n_estimators = 1430\n",
      "OOB score is 0.8302521008403362\n",
      "************************\n",
      "For n_estimators = 1440\n",
      "OOB score is 0.8294117647058824\n",
      "************************\n",
      "For n_estimators = 1450\n",
      "OOB score is 0.8302521008403362\n",
      "************************\n",
      "For n_estimators = 1460\n",
      "OOB score is 0.8306722689075631\n",
      "************************\n",
      "For n_estimators = 1470\n",
      "OOB score is 0.8302521008403362\n",
      "************************\n",
      "For n_estimators = 1480\n",
      "OOB score is 0.8306722689075631\n",
      "************************\n",
      "For n_estimators = 1490\n",
      "OOB score is 0.8302521008403362\n",
      "************************\n",
      "For n_estimators = 1500\n",
      "OOB score is 0.8302521008403362\n",
      "************************\n"
     ]
    }
   ],
   "source": [
    "for w in range(1350,1501,10):\n",
    "    clf1=BaggingClassifier(oob_score=True,n_jobs=-1,n_estimators =w, random_state=400,\n",
    "                         base_estimator=DecisionTreeClassifier())\n",
    "    clf1.fit(X_train,y_train)\n",
    "    oob=clf1.oob_score_\n",
    "    print('For n_estimators = '+str(w))\n",
    "    print('OOB score is ' +str(oob))\n",
    "    print('************************')"
   ]
  },
  {
   "cell_type": "code",
   "execution_count": 73,
   "metadata": {},
   "outputs": [
    {
     "data": {
      "text/plain": [
       "BaggingClassifier(base_estimator=DecisionTreeClassifier(class_weight=None,\n",
       "                                                        criterion='gini',\n",
       "                                                        max_depth=None,\n",
       "                                                        max_features=None,\n",
       "                                                        max_leaf_nodes=None,\n",
       "                                                        min_impurity_decrease=0.0,\n",
       "                                                        min_impurity_split=None,\n",
       "                                                        min_samples_leaf=1,\n",
       "                                                        min_samples_split=2,\n",
       "                                                        min_weight_fraction_leaf=0.0,\n",
       "                                                        presort=False,\n",
       "                                                        random_state=None,\n",
       "                                                        splitter='best'),\n",
       "                  bootstrap=True, bootstrap_features=False, max_features=1.0,\n",
       "                  max_samples=1.0, n_estimators=1360, n_jobs=-1, oob_score=True,\n",
       "                  random_state=400, verbose=0, warm_start=False)"
      ]
     },
     "execution_count": 73,
     "metadata": {},
     "output_type": "execute_result"
    }
   ],
   "source": [
    "# use for 950/ 1360 n_estimators\n",
    "\n",
    "clf1=BaggingClassifier(oob_score=True,n_jobs=-1,n_estimators =1360, random_state=400,\n",
    "                         base_estimator=DecisionTreeClassifier())\n",
    "clf1.fit(X_train,y_train)"
   ]
  },
  {
   "cell_type": "code",
   "execution_count": 74,
   "metadata": {},
   "outputs": [
    {
     "data": {
      "text/plain": [
       "0.6863253125374104"
      ]
     },
     "execution_count": 74,
     "metadata": {},
     "output_type": "execute_result"
    }
   ],
   "source": [
    "from sklearn import metrics\n",
    "metrics.roc_auc_score(y_test,clf1.predict_proba(X_test)[:,1])"
   ]
  },
  {
   "cell_type": "code",
   "execution_count": 75,
   "metadata": {},
   "outputs": [
    {
     "data": {
      "text/plain": [
       "1.0"
      ]
     },
     "execution_count": 75,
     "metadata": {},
     "output_type": "execute_result"
    }
   ],
   "source": [
    "clf1.score(X_train,y_train)"
   ]
  },
  {
   "cell_type": "code",
   "execution_count": 76,
   "metadata": {},
   "outputs": [
    {
     "data": {
      "text/plain": [
       "0.8225490196078431"
      ]
     },
     "execution_count": 76,
     "metadata": {},
     "output_type": "execute_result"
    }
   ],
   "source": [
    "clf1.score(X_test,y_test)"
   ]
  },
  {
   "cell_type": "code",
   "execution_count": 77,
   "metadata": {},
   "outputs": [
    {
     "data": {
      "text/plain": [
       "0.8306722689075631"
      ]
     },
     "execution_count": 77,
     "metadata": {},
     "output_type": "execute_result"
    }
   ],
   "source": [
    "clf1.oob_score_"
   ]
  },
  {
   "cell_type": "code",
   "execution_count": 78,
   "metadata": {},
   "outputs": [],
   "source": [
    "imp=[]\n",
    "for i in clf1.estimators_:\n",
    "    imp.append(i.feature_importances_)"
   ]
  },
  {
   "cell_type": "code",
   "execution_count": 79,
   "metadata": {},
   "outputs": [
    {
     "data": {
      "text/plain": [
       "array([2.89778876e-02, 1.92310243e-02, 3.22745596e-02, 3.28915477e-02,\n",
       "       6.28492544e-02, 4.70237096e-02, 4.46385009e-02, 5.51623645e-02,\n",
       "       1.45951933e-02, 9.67538491e-03, 9.51089802e-03, 6.89631371e-02,\n",
       "       2.34138959e-01, 1.41648191e-02, 4.26323772e-03, 1.04116298e-02,\n",
       "       5.00174306e-03, 2.34654403e-03, 5.47842010e-03, 2.14122665e-03,\n",
       "       3.61006538e-05, 7.23900056e-03, 7.31266919e-03, 1.93756461e-03,\n",
       "       2.00394463e-03, 1.24180962e-02, 1.46810110e-02, 1.55386096e-03,\n",
       "       8.14462510e-03, 4.69628732e-03, 1.29401712e-03, 1.18005467e-02,\n",
       "       1.70465128e-02, 1.33775139e-02, 1.40347035e-02, 1.42413567e-02,\n",
       "       4.50169499e-03, 1.32246262e-02, 1.59439723e-02, 1.60155823e-02,\n",
       "       1.15113187e-02, 1.46836209e-02, 1.73431915e-02, 8.11922510e-03,\n",
       "       6.39274973e-03, 8.42860194e-03, 1.58417489e-02, 1.46236882e-02,\n",
       "       3.30625185e-03, 8.12325013e-03, 4.28871059e-03, 3.72104474e-04,\n",
       "       4.46769552e-04, 2.44938195e-04, 3.85008740e-04, 4.42725528e-04,\n",
       "       2.02368083e-04])"
      ]
     },
     "execution_count": 79,
     "metadata": {},
     "output_type": "execute_result"
    }
   ],
   "source": [
    "imp = np.mean(imp,axis=0)\n",
    "imp"
   ]
  },
  {
   "cell_type": "code",
   "execution_count": 80,
   "metadata": {},
   "outputs": [
    {
     "data": {
      "text/plain": [
       "SECOND_TERM_PERF                     0.234139\n",
       "FIRST_TERM_PERF                      0.068963\n",
       "DISTANCE_FROM_HOME                   0.062849\n",
       "EST_FAM_CONTRIBUTION                 0.055162\n",
       "GROSS_FIN_NEED                       0.047024\n",
       "COST_OF_ATTEND                       0.044639\n",
       "SECOND_TERM                          0.032892\n",
       "FIRST_TERM                           0.032275\n",
       "STDNT_AGE                            0.028978\n",
       "STDNT_GENDER                         0.019231\n",
       "FATHER_HI_EDU_DESC_High School       0.017343\n",
       "STDNT_MAJOR_Science                  0.017047\n",
       "HIGH_SCHL_GPA_high                   0.016016\n",
       "HIGH_SCHL_GPA_average                0.015944\n",
       "MOTHER_HI_EDU_DESC_College/Beyond    0.015842\n",
       "FATHER_HI_EDU_DESC_College/Beyond    0.014684\n",
       "dtype: float64"
      ]
     },
     "execution_count": 80,
     "metadata": {},
     "output_type": "execute_result"
    }
   ],
   "source": [
    "feature_importances = pd.Series(imp,index= X.columns.tolist()).sort_values(ascending=False)\n",
    "feature_importances.head(16)"
   ]
  },
  {
   "cell_type": "code",
   "execution_count": 81,
   "metadata": {},
   "outputs": [
    {
     "data": {
      "text/plain": [
       "0.6863253125374104"
      ]
     },
     "execution_count": 81,
     "metadata": {},
     "output_type": "execute_result"
    }
   ],
   "source": [
    "from sklearn import metrics\n",
    "metrics.roc_auc_score(y_test,clf1.predict_proba(X_test)[:,1])"
   ]
  },
  {
   "cell_type": "code",
   "execution_count": 82,
   "metadata": {},
   "outputs": [
    {
     "data": {
      "text/plain": [
       "RandomForestClassifier(bootstrap=True, class_weight=None, criterion='gini',\n",
       "                       max_depth=None, max_features='auto', max_leaf_nodes=None,\n",
       "                       min_impurity_decrease=0.0, min_impurity_split=None,\n",
       "                       min_samples_leaf=1, min_samples_split=2,\n",
       "                       min_weight_fraction_leaf=0.0, n_estimators=80, n_jobs=-1,\n",
       "                       oob_score=True, random_state=400, verbose=0,\n",
       "                       warm_start=False)"
      ]
     },
     "execution_count": 82,
     "metadata": {},
     "output_type": "execute_result"
    }
   ],
   "source": [
    "from sklearn.ensemble import RandomForestClassifier\n",
    "clf2 = RandomForestClassifier(n_jobs=-1,n_estimators =80, oob_score=True,random_state=400)\n",
    "clf2.fit(X_train,y_train)"
   ]
  },
  {
   "cell_type": "code",
   "execution_count": 83,
   "metadata": {},
   "outputs": [
    {
     "data": {
      "text/plain": [
       "0.6662733227301489"
      ]
     },
     "execution_count": 83,
     "metadata": {},
     "output_type": "execute_result"
    }
   ],
   "source": [
    "from sklearn import metrics\n",
    "metrics.roc_auc_score(y_test,clf2.predict_proba(X_test)[:,1])"
   ]
  },
  {
   "cell_type": "code",
   "execution_count": 84,
   "metadata": {},
   "outputs": [
    {
     "data": {
      "text/plain": [
       "1.0"
      ]
     },
     "execution_count": 84,
     "metadata": {},
     "output_type": "execute_result"
    }
   ],
   "source": [
    "clf2.score(X_train,y_train)"
   ]
  },
  {
   "cell_type": "code",
   "execution_count": 85,
   "metadata": {},
   "outputs": [
    {
     "data": {
      "text/plain": [
       "0.8"
      ]
     },
     "execution_count": 85,
     "metadata": {},
     "output_type": "execute_result"
    }
   ],
   "source": [
    "clf2.score(X_test,y_test)"
   ]
  },
  {
   "cell_type": "code",
   "execution_count": 86,
   "metadata": {},
   "outputs": [
    {
     "data": {
      "text/plain": [
       "0.8084033613445378"
      ]
     },
     "execution_count": 86,
     "metadata": {},
     "output_type": "execute_result"
    }
   ],
   "source": [
    "clf2.oob_score_"
   ]
  },
  {
   "cell_type": "code",
   "execution_count": 87,
   "metadata": {},
   "outputs": [
    {
     "name": "stdout",
     "output_type": "stream",
     "text": [
      "for n estimators =100\n",
      "OOB score is 0.8105042016806723\n",
      "********************\n",
      "for n estimators =120\n",
      "OOB score is 0.8084033613445378\n",
      "********************\n",
      "for n estimators =140\n",
      "OOB score is 0.8054621848739496\n",
      "********************\n",
      "for n estimators =160\n",
      "OOB score is 0.8046218487394958\n",
      "********************\n",
      "for n estimators =180\n",
      "OOB score is 0.807563025210084\n",
      "********************\n",
      "for n estimators =200\n",
      "OOB score is 0.8079831932773109\n",
      "********************\n",
      "for n estimators =220\n",
      "OOB score is 0.8105042016806723\n",
      "********************\n",
      "for n estimators =240\n",
      "OOB score is 0.8100840336134454\n",
      "********************\n",
      "for n estimators =260\n",
      "OOB score is 0.8109243697478992\n",
      "********************\n",
      "for n estimators =280\n",
      "OOB score is 0.8100840336134454\n",
      "********************\n",
      "for n estimators =300\n",
      "OOB score is 0.8105042016806723\n",
      "********************\n",
      "for n estimators =320\n",
      "OOB score is 0.8109243697478992\n",
      "********************\n",
      "for n estimators =340\n",
      "OOB score is 0.8092436974789916\n",
      "********************\n",
      "for n estimators =360\n",
      "OOB score is 0.8084033613445378\n",
      "********************\n",
      "for n estimators =380\n",
      "OOB score is 0.811344537815126\n",
      "********************\n",
      "for n estimators =400\n",
      "OOB score is 0.8100840336134454\n",
      "********************\n",
      "for n estimators =420\n",
      "OOB score is 0.811344537815126\n",
      "********************\n",
      "for n estimators =440\n",
      "OOB score is 0.8109243697478992\n",
      "********************\n",
      "for n estimators =460\n",
      "OOB score is 0.8105042016806723\n",
      "********************\n",
      "for n estimators =480\n",
      "OOB score is 0.8096638655462185\n",
      "********************\n",
      "for n estimators =500\n",
      "OOB score is 0.8109243697478992\n",
      "********************\n",
      "for n estimators =520\n",
      "OOB score is 0.8117647058823529\n",
      "********************\n",
      "for n estimators =540\n",
      "OOB score is 0.8117647058823529\n",
      "********************\n",
      "for n estimators =560\n",
      "OOB score is 0.8117647058823529\n",
      "********************\n",
      "for n estimators =580\n",
      "OOB score is 0.8126050420168067\n",
      "********************\n",
      "for n estimators =600\n",
      "OOB score is 0.811344537815126\n",
      "********************\n"
     ]
    }
   ],
   "source": [
    "for w in range(100,601,20):\n",
    "    clf3 = RandomForestClassifier(n_jobs=-1,n_estimators =w, oob_score=True,random_state=400)\n",
    "    clf3.fit(X_train,y_train)\n",
    "    oob = clf3.oob_score_\n",
    "    print('for n estimators =' + str(w))\n",
    "    print('OOB score is ' +str(oob))\n",
    "    print('********************')\n",
    "    #390 n_estimators"
   ]
  },
  {
   "cell_type": "code",
   "execution_count": 88,
   "metadata": {},
   "outputs": [
    {
     "data": {
      "text/plain": [
       "RandomForestClassifier(bootstrap=True, class_weight=None, criterion='gini',\n",
       "                       max_depth=None, max_features='auto', max_leaf_nodes=None,\n",
       "                       min_impurity_decrease=0.0, min_impurity_split=None,\n",
       "                       min_samples_leaf=1, min_samples_split=2,\n",
       "                       min_weight_fraction_leaf=0.0, n_estimators=580,\n",
       "                       n_jobs=-1, oob_score=True, random_state=400, verbose=0,\n",
       "                       warm_start=False)"
      ]
     },
     "execution_count": 88,
     "metadata": {},
     "output_type": "execute_result"
    }
   ],
   "source": [
    "clf3 = RandomForestClassifier(n_jobs=-1,n_estimators =580, oob_score=True,random_state=400)\n",
    "clf3.fit(X_train,y_train)"
   ]
  },
  {
   "cell_type": "code",
   "execution_count": 89,
   "metadata": {},
   "outputs": [
    {
     "data": {
      "text/plain": [
       "0.6882749303097155"
      ]
     },
     "execution_count": 89,
     "metadata": {},
     "output_type": "execute_result"
    }
   ],
   "source": [
    "from sklearn import metrics\n",
    "metrics.roc_auc_score(y_test,clf3.predict_proba(X_test)[:,1])"
   ]
  },
  {
   "cell_type": "code",
   "execution_count": 90,
   "metadata": {},
   "outputs": [
    {
     "data": {
      "text/plain": [
       "1.0"
      ]
     },
     "execution_count": 90,
     "metadata": {},
     "output_type": "execute_result"
    }
   ],
   "source": [
    "clf3.score(X_train,y_train)"
   ]
  },
  {
   "cell_type": "code",
   "execution_count": 91,
   "metadata": {},
   "outputs": [
    {
     "data": {
      "text/plain": [
       "0.8019607843137255"
      ]
     },
     "execution_count": 91,
     "metadata": {},
     "output_type": "execute_result"
    }
   ],
   "source": [
    "clf3.score(X_test,y_test)"
   ]
  },
  {
   "cell_type": "code",
   "execution_count": 92,
   "metadata": {},
   "outputs": [
    {
     "data": {
      "text/plain": [
       "0.6882749303097155"
      ]
     },
     "execution_count": 92,
     "metadata": {},
     "output_type": "execute_result"
    }
   ],
   "source": [
    "from sklearn import metrics\n",
    "metrics.roc_auc_score(y_test,clf3.predict_proba(X_test)[:,1])"
   ]
  },
  {
   "cell_type": "code",
   "execution_count": 93,
   "metadata": {},
   "outputs": [
    {
     "data": {
      "text/plain": [
       "0.8126050420168067"
      ]
     },
     "execution_count": 93,
     "metadata": {},
     "output_type": "execute_result"
    }
   ],
   "source": [
    "clf3.oob_score_"
   ]
  },
  {
   "cell_type": "code",
   "execution_count": 94,
   "metadata": {},
   "outputs": [
    {
     "data": {
      "text/plain": [
       "GridSearchCV(cv=3, error_score='raise-deprecating',\n",
       "             estimator=RandomForestClassifier(bootstrap=True, class_weight=None,\n",
       "                                              criterion='gini', max_depth=None,\n",
       "                                              max_features='auto',\n",
       "                                              max_leaf_nodes=None,\n",
       "                                              min_impurity_decrease=0.0,\n",
       "                                              min_impurity_split=None,\n",
       "                                              min_samples_leaf=1,\n",
       "                                              min_samples_split=2,\n",
       "                                              min_weight_fraction_leaf=0.0,\n",
       "                                              n_estimators=580, n_jobs=-1,\n",
       "                                              oob_score=True, random_state=400,\n",
       "                                              verbose=0, warm_start=False),\n",
       "             iid='warn', n_jobs=None,\n",
       "             param_grid={'n_estimators': [100, 120, 140, 160, 180, 200, 300,\n",
       "                                          400, 500, 520, 560, 600]},\n",
       "             pre_dispatch='2*n_jobs', refit=True, return_train_score=False,\n",
       "             scoring=None, verbose=0)"
      ]
     },
     "execution_count": 94,
     "metadata": {},
     "output_type": "execute_result"
    }
   ],
   "source": [
    "from sklearn.model_selection import GridSearchCV\n",
    "model1 = GridSearchCV(clf3,param_grid ={'n_estimators': [100,120,140,160,180,200,300,400,500,520,560,600]},cv=3)\n",
    "model1.fit(X_train,y_train)"
   ]
  },
  {
   "cell_type": "code",
   "execution_count": 95,
   "metadata": {},
   "outputs": [
    {
     "data": {
      "text/plain": [
       "RandomForestClassifier(bootstrap=True, class_weight=None, criterion='gini',\n",
       "                       max_depth=None, max_features='auto', max_leaf_nodes=None,\n",
       "                       min_impurity_decrease=0.0, min_impurity_split=None,\n",
       "                       min_samples_leaf=1, min_samples_split=2,\n",
       "                       min_weight_fraction_leaf=0.0, n_estimators=200,\n",
       "                       n_jobs=-1, oob_score=True, random_state=400, verbose=0,\n",
       "                       warm_start=False)"
      ]
     },
     "execution_count": 95,
     "metadata": {},
     "output_type": "execute_result"
    }
   ],
   "source": [
    "model1.best_estimator_"
   ]
  },
  {
   "cell_type": "code",
   "execution_count": 96,
   "metadata": {},
   "outputs": [
    {
     "data": {
      "text/plain": [
       "GradientBoostingClassifier(criterion='friedman_mse', init=None,\n",
       "                           learning_rate=0.1, loss='deviance', max_depth=3,\n",
       "                           max_features=None, max_leaf_nodes=None,\n",
       "                           min_impurity_decrease=0.0, min_impurity_split=None,\n",
       "                           min_samples_leaf=1, min_samples_split=2,\n",
       "                           min_weight_fraction_leaf=0.0, n_estimators=580,\n",
       "                           n_iter_no_change=None, presort='auto',\n",
       "                           random_state=400, subsample=1.0, tol=0.0001,\n",
       "                           validation_fraction=0.1, verbose=0,\n",
       "                           warm_start=False)"
      ]
     },
     "execution_count": 96,
     "metadata": {},
     "output_type": "execute_result"
    }
   ],
   "source": [
    "from sklearn.ensemble import GradientBoostingClassifier\n",
    "clf4 = GradientBoostingClassifier(n_estimators = 580,random_state=400)\n",
    "clf4.fit(X_train,y_train)"
   ]
  },
  {
   "cell_type": "code",
   "execution_count": 97,
   "metadata": {},
   "outputs": [
    {
     "data": {
      "text/plain": [
       "0.685923417645751"
      ]
     },
     "execution_count": 97,
     "metadata": {},
     "output_type": "execute_result"
    }
   ],
   "source": [
    "from sklearn import metrics\n",
    "metrics.roc_auc_score(y_test,clf4.predict_proba(X_test)[:,1])"
   ]
  },
  {
   "cell_type": "code",
   "execution_count": 98,
   "metadata": {},
   "outputs": [
    {
     "data": {
      "text/plain": [
       "0.9193277310924369"
      ]
     },
     "execution_count": 98,
     "metadata": {},
     "output_type": "execute_result"
    }
   ],
   "source": [
    "clf4.score(X_train,y_train)"
   ]
  },
  {
   "cell_type": "code",
   "execution_count": 99,
   "metadata": {},
   "outputs": [
    {
     "data": {
      "text/plain": [
       "0.8098039215686275"
      ]
     },
     "execution_count": 99,
     "metadata": {},
     "output_type": "execute_result"
    }
   ],
   "source": [
    "clf4.score(X_test,y_test)"
   ]
  },
  {
   "cell_type": "code",
   "execution_count": 100,
   "metadata": {},
   "outputs": [
    {
     "data": {
      "text/plain": [
       "SECOND_TERM_PERF                     0.130509\n",
       "FIRST_TERM_PERF                      0.072764\n",
       "DISTANCE_FROM_HOME                   0.064440\n",
       "COST_OF_ATTEND                       0.051494\n",
       "EST_FAM_CONTRIBUTION                 0.051201\n",
       "GROSS_FIN_NEED                       0.045400\n",
       "SECOND_TERM                          0.043411\n",
       "FIRST_TERM                           0.043039\n",
       "STDNT_AGE                            0.028478\n",
       "STDNT_GENDER                         0.022911\n",
       "UNMET_NEED                           0.019899\n",
       "MOTHER_HI_EDU_DESC_High School       0.019654\n",
       "MOTHER_HI_EDU_DESC_College/Beyond    0.019610\n",
       "STDNT_TEST_ENTRANCE_COMB_High        0.019363\n",
       "FATHER_HI_EDU_DESC_High School       0.019290\n",
       "dtype: float64"
      ]
     },
     "execution_count": 100,
     "metadata": {},
     "output_type": "execute_result"
    }
   ],
   "source": [
    "imp1 =pd.Series(clf2.feature_importances_,index = X_train.columns).sort_values(ascending=False)\n",
    "imp1.head(15)"
   ]
  },
  {
   "cell_type": "code",
   "execution_count": 101,
   "metadata": {},
   "outputs": [
    {
     "data": {
      "text/plain": [
       "SECOND_TERM_PERF        0.131667\n",
       "FIRST_TERM_PERF         0.073848\n",
       "DISTANCE_FROM_HOME      0.064422\n",
       "EST_FAM_CONTRIBUTION    0.051909\n",
       "COST_OF_ATTEND          0.051096\n",
       "GROSS_FIN_NEED          0.046076\n",
       "FIRST_TERM              0.043408\n",
       "SECOND_TERM             0.042848\n",
       "STDNT_AGE               0.027067\n",
       "STDNT_GENDER            0.023858\n",
       "dtype: float64"
      ]
     },
     "execution_count": 101,
     "metadata": {},
     "output_type": "execute_result"
    }
   ],
   "source": [
    "imp2 =pd.Series(clf3.feature_importances_,index = X_train.columns).sort_values(ascending=False)\n",
    "imp2.head(10)"
   ]
  },
  {
   "cell_type": "code",
   "execution_count": 102,
   "metadata": {},
   "outputs": [
    {
     "data": {
      "text/plain": [
       "SECOND_TERM_PERF                                0.395927\n",
       "EST_FAM_CONTRIBUTION                            0.089788\n",
       "DISTANCE_FROM_HOME                              0.061089\n",
       "FIRST_TERM_PERF                                 0.056522\n",
       "GROSS_FIN_NEED                                  0.051871\n",
       "COST_OF_ATTEND                                  0.044085\n",
       "STDNT_AGE                                       0.028544\n",
       "STDNT_MAJOR_Art                                 0.012683\n",
       "STDNT_MAJOR_Social Studeies                     0.012306\n",
       "STDNT_BACKGROUND_BGD 3                          0.011666\n",
       "FATHER_HI_EDU_DESC_Middle School/Junior High    0.011078\n",
       "FATHER_HI_EDU_DESC_Other/Unknown                0.010799\n",
       "HIGH_SCHL_GPA_high                              0.010567\n",
       "SECOND_TERM                                     0.010176\n",
       "STDNT_GENDER                                    0.009538\n",
       "dtype: float64"
      ]
     },
     "execution_count": 102,
     "metadata": {},
     "output_type": "execute_result"
    }
   ],
   "source": [
    "imp3=pd.Series(clf4.feature_importances_,index = X_train.columns).sort_values(ascending=False)\n",
    "imp3.head(15)"
   ]
  },
  {
   "cell_type": "code",
   "execution_count": 103,
   "metadata": {},
   "outputs": [
    {
     "data": {
      "text/plain": [
       "AdaBoostClassifier(algorithm='SAMME.R', base_estimator=None, learning_rate=1.0,\n",
       "                   n_estimators=390, random_state=400)"
      ]
     },
     "execution_count": 103,
     "metadata": {},
     "output_type": "execute_result"
    }
   ],
   "source": [
    "from sklearn.ensemble import AdaBoostClassifier\n",
    "clf5 = AdaBoostClassifier(n_estimators=390, random_state=400)\n",
    "clf5.fit(X_train,y_train)"
   ]
  },
  {
   "cell_type": "code",
   "execution_count": 104,
   "metadata": {},
   "outputs": [
    {
     "data": {
      "text/plain": [
       "0.7023669043832196"
      ]
     },
     "execution_count": 104,
     "metadata": {},
     "output_type": "execute_result"
    }
   ],
   "source": [
    "from sklearn import metrics\n",
    "metrics.roc_auc_score(y_test,clf5.predict_proba(X_test)[:,1])"
   ]
  },
  {
   "cell_type": "code",
   "execution_count": 105,
   "metadata": {},
   "outputs": [
    {
     "data": {
      "text/plain": [
       "0.8470588235294118"
      ]
     },
     "execution_count": 105,
     "metadata": {},
     "output_type": "execute_result"
    }
   ],
   "source": [
    "clf5.score(X_train,y_train)"
   ]
  },
  {
   "cell_type": "code",
   "execution_count": 106,
   "metadata": {},
   "outputs": [
    {
     "data": {
      "text/plain": [
       "0.8205882352941176"
      ]
     },
     "execution_count": 106,
     "metadata": {},
     "output_type": "execute_result"
    }
   ],
   "source": [
    "clf5.score(X_test,y_test)"
   ]
  },
  {
   "cell_type": "code",
   "execution_count": 107,
   "metadata": {},
   "outputs": [
    {
     "data": {
      "text/plain": [
       "EST_FAM_CONTRIBUTION      0.364103\n",
       "DISTANCE_FROM_HOME        0.135897\n",
       "COST_OF_ATTEND            0.125641\n",
       "GROSS_FIN_NEED            0.123077\n",
       "SECOND_TERM_PERF          0.117949\n",
       "FIRST_TERM_PERF           0.041026\n",
       "STDNT_AGE                 0.012821\n",
       "UNMET_NEED                0.005128\n",
       "STDNT_GENDER              0.005128\n",
       "STDNT_BACKGROUND_BGD 1    0.005128\n",
       "STDNT_MAJOR_Art           0.005128\n",
       "SECOND_TERM               0.002564\n",
       "HOUSING_STS_Off Campus    0.002564\n",
       "STDNT_MAJOR_Math          0.002564\n",
       "STDNT_BACKGROUND_BGD 3    0.002564\n",
       "dtype: float64"
      ]
     },
     "execution_count": 107,
     "metadata": {},
     "output_type": "execute_result"
    }
   ],
   "source": [
    "imp4=pd.Series(clf5.feature_importances_,index = X_train.columns).sort_values(ascending=False)\n",
    "imp4.head(15)"
   ]
  },
  {
   "cell_type": "code",
   "execution_count": null,
   "metadata": {},
   "outputs": [],
   "source": []
  },
  {
   "cell_type": "code",
   "execution_count": null,
   "metadata": {},
   "outputs": [],
   "source": []
  }
 ],
 "metadata": {
  "interpreter": {
   "hash": "dfd99f225c34819a5f9124e966b1d18058872e6073ae844c21aaaf433635a10f"
  },
  "kernelspec": {
   "display_name": "Python 3.7.4 64-bit ('base': conda)",
   "name": "python3"
  },
  "language_info": {
   "codemirror_mode": {
    "name": "ipython",
    "version": 3
   },
   "file_extension": ".py",
   "mimetype": "text/x-python",
   "name": "python",
   "nbconvert_exporter": "python",
   "pygments_lexer": "ipython3",
   "version": "3.7.4"
  }
 },
 "nbformat": 4,
 "nbformat_minor": 2
}
